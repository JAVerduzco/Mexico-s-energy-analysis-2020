{
  "nbformat": 4,
  "nbformat_minor": 0,
  "metadata": {
    "colab": {
      "name": "Cap2_Nodos.ipynb",
      "provenance": [],
      "authorship_tag": "ABX9TyOddiPTSSUBLqLLWlSQjGQj",
      "include_colab_link": true
    },
    "kernelspec": {
      "name": "python3",
      "display_name": "Python 3"
    },
    "language_info": {
      "name": "python"
    }
  },
  "cells": [
    {
      "cell_type": "markdown",
      "metadata": {
        "id": "view-in-github",
        "colab_type": "text"
      },
      "source": [
        "<a href=\"https://colab.research.google.com/github/JAVerduzco/Mexico-s-energy-analysis-2020/blob/main/Cap2_Nodos.ipynb\" target=\"_parent\"><img src=\"https://colab.research.google.com/assets/colab-badge.svg\" alt=\"Open In Colab\"/></a>"
      ]
    },
    {
      "cell_type": "markdown",
      "metadata": {
        "id": "G4SSoitNKC6C"
      },
      "source": [
        "# Exploración y filtrado de información relacionada a los Nodos del SEN con ayuda de Pandas."
      ]
    },
    {
      "cell_type": "markdown",
      "metadata": {
        "id": "YUTLg87EK8Ux"
      },
      "source": [
        "# 1. Pandas: Lectura de datos e inspección básica."
      ]
    },
    {
      "cell_type": "code",
      "metadata": {
        "colab": {
          "base_uri": "https://localhost:8080/",
          "height": 440
        },
        "id": "_lqXXhnqJ8Az",
        "outputId": "672317ef-093a-4529-ea02-d5552597a2c1"
      },
      "source": [
        "import pandas as pd\n",
        "import os\n",
        "\n",
        "#os.listdir()\n",
        "#os.getcwd()\n",
        "nodos_url = 'https://github.com/JAVerduzco/Mexico-s-energy-analysis-2020/raw/main/Nodos.xlsx'\n",
        "#nodos = pd.read_excel('Nodos.xlsx')\n",
        "nodos = pd.read_excel(nodos_url, index_col = 'CLAVE')\n",
        "nodos.head()"
      ],
      "execution_count": 12,
      "outputs": [
        {
          "output_type": "execute_result",
          "data": {
            "text/html": [
              "\n",
              "  <div id=\"df-73d47141-c303-4de3-9a5a-be90c9e5ae10\">\n",
              "    <div class=\"colab-df-container\">\n",
              "      <div>\n",
              "<style scoped>\n",
              "    .dataframe tbody tr th:only-of-type {\n",
              "        vertical-align: middle;\n",
              "    }\n",
              "\n",
              "    .dataframe tbody tr th {\n",
              "        vertical-align: top;\n",
              "    }\n",
              "\n",
              "    .dataframe thead th {\n",
              "        text-align: right;\n",
              "    }\n",
              "</style>\n",
              "<table border=\"1\" class=\"dataframe\">\n",
              "  <thead>\n",
              "    <tr style=\"text-align: right;\">\n",
              "      <th></th>\n",
              "      <th>SISTEMA</th>\n",
              "      <th>CENTRO DE CONTROL REGIONAL</th>\n",
              "      <th>ZONA DE CARGA</th>\n",
              "      <th>NOMBRE</th>\n",
              "      <th>NIVEL DE TENSIÓN (kV)</th>\n",
              "      <th>CARGA DIRECTAMENTE MODELADA</th>\n",
              "      <th>CARGA INDIRECTAMENTE MODELADA</th>\n",
              "      <th>GENERACIÓN DIRECTAMENTE MODELADA</th>\n",
              "      <th>GENERACIÓN INDIRECTAMENTE MODELADA</th>\n",
              "      <th>ZONA DE OPERACIÓN DE TRANSMISIÓN</th>\n",
              "      <th>GERENCIA REGIONAL DE TRANSMISIÓN</th>\n",
              "      <th>ZONA DE DISTRIBUCIÓN</th>\n",
              "      <th>GERENCIA DIVISIONAL DE DISTRIBUCIÓN</th>\n",
              "      <th>CLAVE DE ENTIDAD FEDERATIVA (INEGI)</th>\n",
              "      <th>ENTIDAD FEDERATIVA (INEGI)</th>\n",
              "      <th>CLAVE DE MUNICIPIO (INEGI)</th>\n",
              "      <th>MUNICIPIO (INEGI)</th>\n",
              "      <th>REGION DE TRANSMISION</th>\n",
              "    </tr>\n",
              "    <tr>\n",
              "      <th>CLAVE</th>\n",
              "      <th></th>\n",
              "      <th></th>\n",
              "      <th></th>\n",
              "      <th></th>\n",
              "      <th></th>\n",
              "      <th></th>\n",
              "      <th></th>\n",
              "      <th></th>\n",
              "      <th></th>\n",
              "      <th></th>\n",
              "      <th></th>\n",
              "      <th></th>\n",
              "      <th></th>\n",
              "      <th></th>\n",
              "      <th></th>\n",
              "      <th></th>\n",
              "      <th></th>\n",
              "      <th></th>\n",
              "    </tr>\n",
              "  </thead>\n",
              "  <tbody>\n",
              "    <tr>\n",
              "      <th>07ACU-115</th>\n",
              "      <td>BCA</td>\n",
              "      <td>BAJA CALIFORNIA</td>\n",
              "      <td>ENSENADA</td>\n",
              "      <td>Acueducto La Mision</td>\n",
              "      <td>115.0</td>\n",
              "      <td>No Aplica</td>\n",
              "      <td>Indirectamente Modelada</td>\n",
              "      <td>No Aplica</td>\n",
              "      <td>No Aplica</td>\n",
              "      <td>COSTA</td>\n",
              "      <td>BAJA CALIFORNIA</td>\n",
              "      <td>ENSENADA</td>\n",
              "      <td>BAJA CALIFORNIA</td>\n",
              "      <td>2</td>\n",
              "      <td>BAJA CALIFORNIA</td>\n",
              "      <td>1</td>\n",
              "      <td>ENSENADA</td>\n",
              "      <td>ENSENADA</td>\n",
              "    </tr>\n",
              "    <tr>\n",
              "      <th>07AUE-115</th>\n",
              "      <td>BCA</td>\n",
              "      <td>BAJA CALIFORNIA</td>\n",
              "      <td>ENSENADA</td>\n",
              "      <td>Aguas Ensenada</td>\n",
              "      <td>115.0</td>\n",
              "      <td>No Aplica</td>\n",
              "      <td>Indirectamente Modelada</td>\n",
              "      <td>No Aplica</td>\n",
              "      <td>No Aplica</td>\n",
              "      <td>COSTA</td>\n",
              "      <td>BAJA CALIFORNIA</td>\n",
              "      <td>ENSENADA</td>\n",
              "      <td>BAJA CALIFORNIA</td>\n",
              "      <td>2</td>\n",
              "      <td>BAJA CALIFORNIA</td>\n",
              "      <td>1</td>\n",
              "      <td>ENSENADA</td>\n",
              "      <td>ENSENADA</td>\n",
              "    </tr>\n",
              "    <tr>\n",
              "      <th>07CIP-115</th>\n",
              "      <td>BCA</td>\n",
              "      <td>BAJA CALIFORNIA</td>\n",
              "      <td>ENSENADA</td>\n",
              "      <td>Cipres</td>\n",
              "      <td>115.0</td>\n",
              "      <td>Directamente Modelada</td>\n",
              "      <td>Indirectamente Modelada</td>\n",
              "      <td>Directamente Modelada</td>\n",
              "      <td>No Aplica</td>\n",
              "      <td>COSTA</td>\n",
              "      <td>BAJA CALIFORNIA</td>\n",
              "      <td>ENSENADA</td>\n",
              "      <td>BAJA CALIFORNIA</td>\n",
              "      <td>2</td>\n",
              "      <td>BAJA CALIFORNIA</td>\n",
              "      <td>1</td>\n",
              "      <td>ENSENADA</td>\n",
              "      <td>ENSENADA</td>\n",
              "    </tr>\n",
              "    <tr>\n",
              "      <th>07CME-115</th>\n",
              "      <td>BCA</td>\n",
              "      <td>BAJA CALIFORNIA</td>\n",
              "      <td>ENSENADA</td>\n",
              "      <td>Cemex</td>\n",
              "      <td>115.0</td>\n",
              "      <td>No Aplica</td>\n",
              "      <td>Indirectamente Modelada</td>\n",
              "      <td>No Aplica</td>\n",
              "      <td>No Aplica</td>\n",
              "      <td>COSTA</td>\n",
              "      <td>BAJA CALIFORNIA</td>\n",
              "      <td>ENSENADA</td>\n",
              "      <td>BAJA CALIFORNIA</td>\n",
              "      <td>2</td>\n",
              "      <td>BAJA CALIFORNIA</td>\n",
              "      <td>1</td>\n",
              "      <td>ENSENADA</td>\n",
              "      <td>ENSENADA</td>\n",
              "    </tr>\n",
              "    <tr>\n",
              "      <th>07COE-115</th>\n",
              "      <td>BCA</td>\n",
              "      <td>BAJA CALIFORNIA</td>\n",
              "      <td>ENSENADA</td>\n",
              "      <td>Colonet</td>\n",
              "      <td>115.0</td>\n",
              "      <td>No Aplica</td>\n",
              "      <td>Indirectamente Modelada</td>\n",
              "      <td>No Aplica</td>\n",
              "      <td>No Aplica</td>\n",
              "      <td>COSTA</td>\n",
              "      <td>BAJA CALIFORNIA</td>\n",
              "      <td>ENSENADA</td>\n",
              "      <td>BAJA CALIFORNIA</td>\n",
              "      <td>2</td>\n",
              "      <td>BAJA CALIFORNIA</td>\n",
              "      <td>1</td>\n",
              "      <td>ENSENADA</td>\n",
              "      <td>ENSENADA</td>\n",
              "    </tr>\n",
              "  </tbody>\n",
              "</table>\n",
              "</div>\n",
              "      <button class=\"colab-df-convert\" onclick=\"convertToInteractive('df-73d47141-c303-4de3-9a5a-be90c9e5ae10')\"\n",
              "              title=\"Convert this dataframe to an interactive table.\"\n",
              "              style=\"display:none;\">\n",
              "        \n",
              "  <svg xmlns=\"http://www.w3.org/2000/svg\" height=\"24px\"viewBox=\"0 0 24 24\"\n",
              "       width=\"24px\">\n",
              "    <path d=\"M0 0h24v24H0V0z\" fill=\"none\"/>\n",
              "    <path d=\"M18.56 5.44l.94 2.06.94-2.06 2.06-.94-2.06-.94-.94-2.06-.94 2.06-2.06.94zm-11 1L8.5 8.5l.94-2.06 2.06-.94-2.06-.94L8.5 2.5l-.94 2.06-2.06.94zm10 10l.94 2.06.94-2.06 2.06-.94-2.06-.94-.94-2.06-.94 2.06-2.06.94z\"/><path d=\"M17.41 7.96l-1.37-1.37c-.4-.4-.92-.59-1.43-.59-.52 0-1.04.2-1.43.59L10.3 9.45l-7.72 7.72c-.78.78-.78 2.05 0 2.83L4 21.41c.39.39.9.59 1.41.59.51 0 1.02-.2 1.41-.59l7.78-7.78 2.81-2.81c.8-.78.8-2.07 0-2.86zM5.41 20L4 18.59l7.72-7.72 1.47 1.35L5.41 20z\"/>\n",
              "  </svg>\n",
              "      </button>\n",
              "      \n",
              "  <style>\n",
              "    .colab-df-container {\n",
              "      display:flex;\n",
              "      flex-wrap:wrap;\n",
              "      gap: 12px;\n",
              "    }\n",
              "\n",
              "    .colab-df-convert {\n",
              "      background-color: #E8F0FE;\n",
              "      border: none;\n",
              "      border-radius: 50%;\n",
              "      cursor: pointer;\n",
              "      display: none;\n",
              "      fill: #1967D2;\n",
              "      height: 32px;\n",
              "      padding: 0 0 0 0;\n",
              "      width: 32px;\n",
              "    }\n",
              "\n",
              "    .colab-df-convert:hover {\n",
              "      background-color: #E2EBFA;\n",
              "      box-shadow: 0px 1px 2px rgba(60, 64, 67, 0.3), 0px 1px 3px 1px rgba(60, 64, 67, 0.15);\n",
              "      fill: #174EA6;\n",
              "    }\n",
              "\n",
              "    [theme=dark] .colab-df-convert {\n",
              "      background-color: #3B4455;\n",
              "      fill: #D2E3FC;\n",
              "    }\n",
              "\n",
              "    [theme=dark] .colab-df-convert:hover {\n",
              "      background-color: #434B5C;\n",
              "      box-shadow: 0px 1px 3px 1px rgba(0, 0, 0, 0.15);\n",
              "      filter: drop-shadow(0px 1px 2px rgba(0, 0, 0, 0.3));\n",
              "      fill: #FFFFFF;\n",
              "    }\n",
              "  </style>\n",
              "\n",
              "      <script>\n",
              "        const buttonEl =\n",
              "          document.querySelector('#df-73d47141-c303-4de3-9a5a-be90c9e5ae10 button.colab-df-convert');\n",
              "        buttonEl.style.display =\n",
              "          google.colab.kernel.accessAllowed ? 'block' : 'none';\n",
              "\n",
              "        async function convertToInteractive(key) {\n",
              "          const element = document.querySelector('#df-73d47141-c303-4de3-9a5a-be90c9e5ae10');\n",
              "          const dataTable =\n",
              "            await google.colab.kernel.invokeFunction('convertToInteractive',\n",
              "                                                     [key], {});\n",
              "          if (!dataTable) return;\n",
              "\n",
              "          const docLinkHtml = 'Like what you see? Visit the ' +\n",
              "            '<a target=\"_blank\" href=https://colab.research.google.com/notebooks/data_table.ipynb>data table notebook</a>'\n",
              "            + ' to learn more about interactive tables.';\n",
              "          element.innerHTML = '';\n",
              "          dataTable['output_type'] = 'display_data';\n",
              "          await google.colab.output.renderOutput(dataTable, element);\n",
              "          const docLink = document.createElement('div');\n",
              "          docLink.innerHTML = docLinkHtml;\n",
              "          element.appendChild(docLink);\n",
              "        }\n",
              "      </script>\n",
              "    </div>\n",
              "  </div>\n",
              "  "
            ],
            "text/plain": [
              "          SISTEMA  ... REGION DE TRANSMISION\n",
              "CLAVE              ...                      \n",
              "07ACU-115     BCA  ...              ENSENADA\n",
              "07AUE-115     BCA  ...              ENSENADA\n",
              "07CIP-115     BCA  ...              ENSENADA\n",
              "07CME-115     BCA  ...              ENSENADA\n",
              "07COE-115     BCA  ...              ENSENADA\n",
              "\n",
              "[5 rows x 18 columns]"
            ]
          },
          "metadata": {},
          "execution_count": 12
        }
      ]
    },
    {
      "cell_type": "code",
      "source": [
        "nodos.loc['07ACU-115']"
      ],
      "metadata": {
        "id": "dzmM_H0bCdqN",
        "colab": {
          "base_uri": "https://localhost:8080/"
        },
        "outputId": "3e7ef05a-7447-4be5-ab9a-72d2486d44d9"
      },
      "execution_count": 16,
      "outputs": [
        {
          "output_type": "execute_result",
          "data": {
            "text/plain": [
              "SISTEMA                                                    BCA\n",
              "CENTRO DE CONTROL REGIONAL                     BAJA CALIFORNIA\n",
              "ZONA DE CARGA                                         ENSENADA\n",
              "NOMBRE                                     Acueducto La Mision\n",
              "NIVEL DE TENSIÓN (kV)                                      115\n",
              "CARGA DIRECTAMENTE MODELADA                          No Aplica\n",
              "CARGA INDIRECTAMENTE MODELADA          Indirectamente Modelada\n",
              "GENERACIÓN DIRECTAMENTE MODELADA                     No Aplica\n",
              "GENERACIÓN INDIRECTAMENTE MODELADA                   No Aplica\n",
              "ZONA DE OPERACIÓN DE TRANSMISIÓN                         COSTA\n",
              "GERENCIA REGIONAL DE TRANSMISIÓN               BAJA CALIFORNIA\n",
              "ZONA DE DISTRIBUCIÓN                                  ENSENADA\n",
              "GERENCIA DIVISIONAL DE DISTRIBUCIÓN            BAJA CALIFORNIA\n",
              "CLAVE DE ENTIDAD FEDERATIVA (INEGI)                          2\n",
              "ENTIDAD FEDERATIVA (INEGI)                     BAJA CALIFORNIA\n",
              "CLAVE DE MUNICIPIO (INEGI)                                   1\n",
              "MUNICIPIO (INEGI)                                     ENSENADA\n",
              "REGION DE TRANSMISION                                 ENSENADA\n",
              "Name: 07ACU-115, dtype: object"
            ]
          },
          "metadata": {},
          "execution_count": 16
        }
      ]
    },
    {
      "cell_type": "code",
      "source": [
        "nodos.iloc[1]"
      ],
      "metadata": {
        "id": "-kySc0JkEf4K"
      },
      "execution_count": null,
      "outputs": []
    },
    {
      "cell_type": "code",
      "metadata": {
        "colab": {
          "base_uri": "https://localhost:8080/"
        },
        "id": "zcLo5bw_NJBA",
        "outputId": "8579f6c0-ffb1-4d0f-bc18-a75ed3e9b510"
      },
      "source": [
        "nodos.loc['07ACU-115',['NOMBRE','REGION DE TRANSMISION']]"
      ],
      "execution_count": null,
      "outputs": [
        {
          "output_type": "execute_result",
          "data": {
            "text/plain": [
              "NOMBRE                   Acueducto La Mision\n",
              "REGION DE TRANSMISION               ENSENADA\n",
              "Name: 07ACU-115, dtype: object"
            ]
          },
          "metadata": {},
          "execution_count": 7
        }
      ]
    },
    {
      "cell_type": "code",
      "source": [
        "nodos.iloc[1:5,:]"
      ],
      "metadata": {
        "colab": {
          "base_uri": "https://localhost:8080/",
          "height": 391
        },
        "id": "GFUW-bYPE9bG",
        "outputId": "d6cf7a59-3c02-4804-c91b-19598504eb11"
      },
      "execution_count": 17,
      "outputs": [
        {
          "output_type": "execute_result",
          "data": {
            "text/html": [
              "\n",
              "  <div id=\"df-571e9ad3-c0af-49b5-ab5f-716abede498e\">\n",
              "    <div class=\"colab-df-container\">\n",
              "      <div>\n",
              "<style scoped>\n",
              "    .dataframe tbody tr th:only-of-type {\n",
              "        vertical-align: middle;\n",
              "    }\n",
              "\n",
              "    .dataframe tbody tr th {\n",
              "        vertical-align: top;\n",
              "    }\n",
              "\n",
              "    .dataframe thead th {\n",
              "        text-align: right;\n",
              "    }\n",
              "</style>\n",
              "<table border=\"1\" class=\"dataframe\">\n",
              "  <thead>\n",
              "    <tr style=\"text-align: right;\">\n",
              "      <th></th>\n",
              "      <th>SISTEMA</th>\n",
              "      <th>CENTRO DE CONTROL REGIONAL</th>\n",
              "      <th>ZONA DE CARGA</th>\n",
              "      <th>NOMBRE</th>\n",
              "      <th>NIVEL DE TENSIÓN (kV)</th>\n",
              "      <th>CARGA DIRECTAMENTE MODELADA</th>\n",
              "      <th>CARGA INDIRECTAMENTE MODELADA</th>\n",
              "      <th>GENERACIÓN DIRECTAMENTE MODELADA</th>\n",
              "      <th>GENERACIÓN INDIRECTAMENTE MODELADA</th>\n",
              "      <th>ZONA DE OPERACIÓN DE TRANSMISIÓN</th>\n",
              "      <th>GERENCIA REGIONAL DE TRANSMISIÓN</th>\n",
              "      <th>ZONA DE DISTRIBUCIÓN</th>\n",
              "      <th>GERENCIA DIVISIONAL DE DISTRIBUCIÓN</th>\n",
              "      <th>CLAVE DE ENTIDAD FEDERATIVA (INEGI)</th>\n",
              "      <th>ENTIDAD FEDERATIVA (INEGI)</th>\n",
              "      <th>CLAVE DE MUNICIPIO (INEGI)</th>\n",
              "      <th>MUNICIPIO (INEGI)</th>\n",
              "      <th>REGION DE TRANSMISION</th>\n",
              "    </tr>\n",
              "    <tr>\n",
              "      <th>CLAVE</th>\n",
              "      <th></th>\n",
              "      <th></th>\n",
              "      <th></th>\n",
              "      <th></th>\n",
              "      <th></th>\n",
              "      <th></th>\n",
              "      <th></th>\n",
              "      <th></th>\n",
              "      <th></th>\n",
              "      <th></th>\n",
              "      <th></th>\n",
              "      <th></th>\n",
              "      <th></th>\n",
              "      <th></th>\n",
              "      <th></th>\n",
              "      <th></th>\n",
              "      <th></th>\n",
              "      <th></th>\n",
              "    </tr>\n",
              "  </thead>\n",
              "  <tbody>\n",
              "    <tr>\n",
              "      <th>07AUE-115</th>\n",
              "      <td>BCA</td>\n",
              "      <td>BAJA CALIFORNIA</td>\n",
              "      <td>ENSENADA</td>\n",
              "      <td>Aguas Ensenada</td>\n",
              "      <td>115.0</td>\n",
              "      <td>No Aplica</td>\n",
              "      <td>Indirectamente Modelada</td>\n",
              "      <td>No Aplica</td>\n",
              "      <td>No Aplica</td>\n",
              "      <td>COSTA</td>\n",
              "      <td>BAJA CALIFORNIA</td>\n",
              "      <td>ENSENADA</td>\n",
              "      <td>BAJA CALIFORNIA</td>\n",
              "      <td>2</td>\n",
              "      <td>BAJA CALIFORNIA</td>\n",
              "      <td>1</td>\n",
              "      <td>ENSENADA</td>\n",
              "      <td>ENSENADA</td>\n",
              "    </tr>\n",
              "    <tr>\n",
              "      <th>07CIP-115</th>\n",
              "      <td>BCA</td>\n",
              "      <td>BAJA CALIFORNIA</td>\n",
              "      <td>ENSENADA</td>\n",
              "      <td>Cipres</td>\n",
              "      <td>115.0</td>\n",
              "      <td>Directamente Modelada</td>\n",
              "      <td>Indirectamente Modelada</td>\n",
              "      <td>Directamente Modelada</td>\n",
              "      <td>No Aplica</td>\n",
              "      <td>COSTA</td>\n",
              "      <td>BAJA CALIFORNIA</td>\n",
              "      <td>ENSENADA</td>\n",
              "      <td>BAJA CALIFORNIA</td>\n",
              "      <td>2</td>\n",
              "      <td>BAJA CALIFORNIA</td>\n",
              "      <td>1</td>\n",
              "      <td>ENSENADA</td>\n",
              "      <td>ENSENADA</td>\n",
              "    </tr>\n",
              "    <tr>\n",
              "      <th>07CME-115</th>\n",
              "      <td>BCA</td>\n",
              "      <td>BAJA CALIFORNIA</td>\n",
              "      <td>ENSENADA</td>\n",
              "      <td>Cemex</td>\n",
              "      <td>115.0</td>\n",
              "      <td>No Aplica</td>\n",
              "      <td>Indirectamente Modelada</td>\n",
              "      <td>No Aplica</td>\n",
              "      <td>No Aplica</td>\n",
              "      <td>COSTA</td>\n",
              "      <td>BAJA CALIFORNIA</td>\n",
              "      <td>ENSENADA</td>\n",
              "      <td>BAJA CALIFORNIA</td>\n",
              "      <td>2</td>\n",
              "      <td>BAJA CALIFORNIA</td>\n",
              "      <td>1</td>\n",
              "      <td>ENSENADA</td>\n",
              "      <td>ENSENADA</td>\n",
              "    </tr>\n",
              "    <tr>\n",
              "      <th>07COE-115</th>\n",
              "      <td>BCA</td>\n",
              "      <td>BAJA CALIFORNIA</td>\n",
              "      <td>ENSENADA</td>\n",
              "      <td>Colonet</td>\n",
              "      <td>115.0</td>\n",
              "      <td>No Aplica</td>\n",
              "      <td>Indirectamente Modelada</td>\n",
              "      <td>No Aplica</td>\n",
              "      <td>No Aplica</td>\n",
              "      <td>COSTA</td>\n",
              "      <td>BAJA CALIFORNIA</td>\n",
              "      <td>ENSENADA</td>\n",
              "      <td>BAJA CALIFORNIA</td>\n",
              "      <td>2</td>\n",
              "      <td>BAJA CALIFORNIA</td>\n",
              "      <td>1</td>\n",
              "      <td>ENSENADA</td>\n",
              "      <td>ENSENADA</td>\n",
              "    </tr>\n",
              "  </tbody>\n",
              "</table>\n",
              "</div>\n",
              "      <button class=\"colab-df-convert\" onclick=\"convertToInteractive('df-571e9ad3-c0af-49b5-ab5f-716abede498e')\"\n",
              "              title=\"Convert this dataframe to an interactive table.\"\n",
              "              style=\"display:none;\">\n",
              "        \n",
              "  <svg xmlns=\"http://www.w3.org/2000/svg\" height=\"24px\"viewBox=\"0 0 24 24\"\n",
              "       width=\"24px\">\n",
              "    <path d=\"M0 0h24v24H0V0z\" fill=\"none\"/>\n",
              "    <path d=\"M18.56 5.44l.94 2.06.94-2.06 2.06-.94-2.06-.94-.94-2.06-.94 2.06-2.06.94zm-11 1L8.5 8.5l.94-2.06 2.06-.94-2.06-.94L8.5 2.5l-.94 2.06-2.06.94zm10 10l.94 2.06.94-2.06 2.06-.94-2.06-.94-.94-2.06-.94 2.06-2.06.94z\"/><path d=\"M17.41 7.96l-1.37-1.37c-.4-.4-.92-.59-1.43-.59-.52 0-1.04.2-1.43.59L10.3 9.45l-7.72 7.72c-.78.78-.78 2.05 0 2.83L4 21.41c.39.39.9.59 1.41.59.51 0 1.02-.2 1.41-.59l7.78-7.78 2.81-2.81c.8-.78.8-2.07 0-2.86zM5.41 20L4 18.59l7.72-7.72 1.47 1.35L5.41 20z\"/>\n",
              "  </svg>\n",
              "      </button>\n",
              "      \n",
              "  <style>\n",
              "    .colab-df-container {\n",
              "      display:flex;\n",
              "      flex-wrap:wrap;\n",
              "      gap: 12px;\n",
              "    }\n",
              "\n",
              "    .colab-df-convert {\n",
              "      background-color: #E8F0FE;\n",
              "      border: none;\n",
              "      border-radius: 50%;\n",
              "      cursor: pointer;\n",
              "      display: none;\n",
              "      fill: #1967D2;\n",
              "      height: 32px;\n",
              "      padding: 0 0 0 0;\n",
              "      width: 32px;\n",
              "    }\n",
              "\n",
              "    .colab-df-convert:hover {\n",
              "      background-color: #E2EBFA;\n",
              "      box-shadow: 0px 1px 2px rgba(60, 64, 67, 0.3), 0px 1px 3px 1px rgba(60, 64, 67, 0.15);\n",
              "      fill: #174EA6;\n",
              "    }\n",
              "\n",
              "    [theme=dark] .colab-df-convert {\n",
              "      background-color: #3B4455;\n",
              "      fill: #D2E3FC;\n",
              "    }\n",
              "\n",
              "    [theme=dark] .colab-df-convert:hover {\n",
              "      background-color: #434B5C;\n",
              "      box-shadow: 0px 1px 3px 1px rgba(0, 0, 0, 0.15);\n",
              "      filter: drop-shadow(0px 1px 2px rgba(0, 0, 0, 0.3));\n",
              "      fill: #FFFFFF;\n",
              "    }\n",
              "  </style>\n",
              "\n",
              "      <script>\n",
              "        const buttonEl =\n",
              "          document.querySelector('#df-571e9ad3-c0af-49b5-ab5f-716abede498e button.colab-df-convert');\n",
              "        buttonEl.style.display =\n",
              "          google.colab.kernel.accessAllowed ? 'block' : 'none';\n",
              "\n",
              "        async function convertToInteractive(key) {\n",
              "          const element = document.querySelector('#df-571e9ad3-c0af-49b5-ab5f-716abede498e');\n",
              "          const dataTable =\n",
              "            await google.colab.kernel.invokeFunction('convertToInteractive',\n",
              "                                                     [key], {});\n",
              "          if (!dataTable) return;\n",
              "\n",
              "          const docLinkHtml = 'Like what you see? Visit the ' +\n",
              "            '<a target=\"_blank\" href=https://colab.research.google.com/notebooks/data_table.ipynb>data table notebook</a>'\n",
              "            + ' to learn more about interactive tables.';\n",
              "          element.innerHTML = '';\n",
              "          dataTable['output_type'] = 'display_data';\n",
              "          await google.colab.output.renderOutput(dataTable, element);\n",
              "          const docLink = document.createElement('div');\n",
              "          docLink.innerHTML = docLinkHtml;\n",
              "          element.appendChild(docLink);\n",
              "        }\n",
              "      </script>\n",
              "    </div>\n",
              "  </div>\n",
              "  "
            ],
            "text/plain": [
              "          SISTEMA  ... REGION DE TRANSMISION\n",
              "CLAVE              ...                      \n",
              "07AUE-115     BCA  ...              ENSENADA\n",
              "07CIP-115     BCA  ...              ENSENADA\n",
              "07CME-115     BCA  ...              ENSENADA\n",
              "07COE-115     BCA  ...              ENSENADA\n",
              "\n",
              "[4 rows x 18 columns]"
            ]
          },
          "metadata": {},
          "execution_count": 17
        }
      ]
    },
    {
      "cell_type": "markdown",
      "source": [
        "Podemos hacer filtrado por zona de carga o cualquier columna. En este caso queremos ver nodos de zona Hermosillo."
      ],
      "metadata": {
        "id": "PhH_LPsgFKAo"
      }
    },
    {
      "cell_type": "code",
      "source": [
        "nodos[nodos['ZONA DE CARGA']=='HERMOSILLO']"
      ],
      "metadata": {
        "id": "fDNdRnkxHnwo"
      },
      "execution_count": null,
      "outputs": []
    },
    {
      "cell_type": "code",
      "source": [
        "nodos[(nodos['ZONA DE CARGA']=='MONTERREY') & (nodos['NIVEL DE TENSIÓN (kV)']>=230)]"
      ],
      "metadata": {
        "id": "urnby-W6FYnD"
      },
      "execution_count": null,
      "outputs": []
    },
    {
      "cell_type": "markdown",
      "source": [
        "Funciones con pandas"
      ],
      "metadata": {
        "id": "sBnVzbAXIR5L"
      }
    },
    {
      "cell_type": "markdown",
      "source": [
        "¿Cuantos nodos hay en cada zona de carga?"
      ],
      "metadata": {
        "id": "pm17um9CIcdW"
      }
    },
    {
      "cell_type": "code",
      "source": [
        "nodos_por_zona = nodos['ZONA DE CARGA'].value_counts()"
      ],
      "metadata": {
        "id": "keF9eWFQIWU6"
      },
      "execution_count": 32,
      "outputs": []
    },
    {
      "cell_type": "code",
      "source": [
        "import matplotlib.pyplot as plt\n",
        "nodos_por_zona.plot(kind='bar',rot=90,figsize = [20,8],title='Número de nodos por zona de carga')\n",
        "plt.show()\n"
      ],
      "metadata": {
        "colab": {
          "base_uri": "https://localhost:8080/",
          "height": 588
        },
        "id": "Teh7aDoaJNi7",
        "outputId": "7eea6b6f-01c0-4a43-caee-d787301b61e6"
      },
      "execution_count": 41,
      "outputs": [
        {
          "output_type": "display_data",
          "data": {
            "image/png": "[encoded data removed]",
            "text/plain": [
              "<Figure size 1440x576 with 1 Axes>"
            ]
          },
          "metadata": {
            "needs_background": "light"
          }
        }
      ]
    },
    {
      "cell_type": "markdown",
      "source": [
        "Por zona de carga, cuantas subestaciones hay de cada nivel de voltaje.\n"
      ],
      "metadata": {
        "id": "Xb9pCOWxKqHs"
      }
    },
    {
      "cell_type": "code",
      "source": [
        "nodos_voltaje = nodos.groupby(['ZONA DE CARGA','NIVEL DE TENSIÓN (kV)'])['NIVEL DE TENSIÓN (kV)'].count()\n",
        "nodos_voltaje"
      ],
      "metadata": {
        "colab": {
          "base_uri": "https://localhost:8080/"
        },
        "id": "0oW-eGTfKjPX",
        "outputId": "494d9c30-a81d-48fc-da03-996f9f66d39f"
      },
      "execution_count": 48,
      "outputs": [
        {
          "output_type": "execute_result",
          "data": {
            "text/plain": [
              "ZONA DE CARGA   NIVEL DE TENSIÓN (kV)\n",
              "ACAPULCO        69.0                      1\n",
              "                115.0                    27\n",
              "AGUASCALIENTES  115.0                    40\n",
              "                230.0                     6\n",
              "                400.0                     2\n",
              "                                         ..\n",
              "ZACATECAS       230.0                     1\n",
              "                400.0                     3\n",
              "ZAMORA          115.0                    28\n",
              "ZAPOTLAN        115.0                     8\n",
              "ZIHUATANEJO     115.0                    10\n",
              "Name: NIVEL DE TENSIÓN (kV), Length: 213, dtype: int64"
            ]
          },
          "metadata": {},
          "execution_count": 48
        }
      ]
    }
  ]
}