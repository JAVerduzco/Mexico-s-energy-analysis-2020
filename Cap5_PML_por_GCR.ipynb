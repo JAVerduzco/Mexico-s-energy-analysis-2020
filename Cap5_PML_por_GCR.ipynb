{
  "nbformat": 4,
  "nbformat_minor": 0,
  "metadata": {
    "colab": {
      "name": "Cap5_PML_por_GCR.ipynb",
      "provenance": [],
      "collapsed_sections": [],
      "authorship_tag": "ABX9TyMLpQ3mGloTjRClGfdYDzgn",
      "include_colab_link": true
    },
    "kernelspec": {
      "name": "python3",
      "display_name": "Python 3"
    },
    "language_info": {
      "name": "python"
    }
  },
  "cells": [
    {
      "cell_type": "markdown",
      "metadata": {
        "id": "view-in-github",
        "colab_type": "text"
      },
      "source": [
        "<a href=\"https://colab.research.google.com/github/JAVerduzco/Mexico-s-energy-analysis-2020/blob/main/Cap5_PML_por_GCR.ipynb\" target=\"_parent\"><img src=\"https://colab.research.google.com/assets/colab-badge.svg\" alt=\"Open In Colab\"/></a>"
      ]
    },
    {
      "cell_type": "markdown",
      "metadata": {
        "id": "kGQCPJqFBJ4l"
      },
      "source": [
        "# Cap5. Análisis PML por GCR\n",
        "### Hecho por Alejandro Verduzco"
      ]
    },
    {
      "cell_type": "markdown",
      "metadata": {
        "id": "APwUtwdBCZnD"
      },
      "source": [
        "Usamos las URL para descargar directamente los archivos y leerlos."
      ]
    },
    {
      "cell_type": "code",
      "metadata": {
        "id": "lzWLXqVLBEhQ"
      },
      "source": [
        "cong_path = 'https://github.com/IvanMGro/CENACE/raw/main/congzona.xlsx'\n",
        "pml_path = 'https://github.com/IvanMGro/CENACE/raw/main/pmlzona.xlsx'\n",
        "gcr_path = 'https://github.com/IvanMGro/CENACE/raw/main/zona_gcr.xlsx'"
      ],
      "execution_count": null,
      "outputs": []
    },
    {
      "cell_type": "markdown",
      "metadata": {
        "id": "3rCXZqeJC6PZ"
      },
      "source": [
        "Las gráficas del ejercicio anterior, no son buena forma de visualizar y analizar el mercado. Lo más común es segmentar y comparar precios por GCR. "
      ]
    },
    {
      "cell_type": "code",
      "metadata": {
        "id": "GfBlKBnNCjg2"
      },
      "source": [
        "import pandas as pd\n",
        "cong = pd.read_excel(cong_path)\n",
        "pml = pd.read_excel(pml_path)\n",
        "zona_gcr = pd.read_excel(gcr_path)"
      ],
      "execution_count": null,
      "outputs": []
    },
    {
      "cell_type": "code",
      "source": [
        "print(cong.head())\n",
        "print(pml.head())\n",
        "print(zona_gcr.head())"
      ],
      "metadata": {
        "colab": {
          "base_uri": "https://localhost:8080/"
        },
        "id": "eFdHF_j8d4lU",
        "outputId": "1b69a0c0-297a-40ff-ab2b-e4a5b4856dd2"
      },
      "execution_count": null,
      "outputs": [
        {
          "output_type": "stream",
          "name": "stdout",
          "text": [
            "       Fecha            Zona  comp_cong\n",
            "0 2020-01-01        ACAPULCO  92.955417\n",
            "1 2020-01-01  AGUASCALIENTES  14.787500\n",
            "2 2020-01-01      APATZINGAN  23.129167\n",
            "3 2020-01-01         CABORCA -21.725000\n",
            "4 2020-01-01         CAMARGO  15.704167\n",
            "       Fecha            Zona         PML\n",
            "0 2020-01-01        ACAPULCO  436.570833\n",
            "1 2020-01-01  AGUASCALIENTES  314.476667\n",
            "2 2020-01-01      APATZINGAN  341.145000\n",
            "3 2020-01-01         CABORCA  203.472917\n",
            "4 2020-01-01         CAMARGO  273.548750\n",
            "  ZONA DE CARGA CENTRO DE CONTROL REGIONAL\n",
            "0      ENSENADA            BAJA CALIFORNIA\n",
            "1      MEXICALI            BAJA CALIFORNIA\n",
            "2       SANLUIS            BAJA CALIFORNIA\n",
            "3       TIJUANA            BAJA CALIFORNIA\n",
            "4     No Aplica                  No Aplica\n"
          ]
        }
      ]
    },
    {
      "cell_type": "markdown",
      "source": [
        "Con la función ```.merge()``` combinaremos los dataframes pml, cong y gcr. Tienen que tener una columna en comun, en este caso es la que contiene la zona de carga."
      ],
      "metadata": {
        "id": "PZ6iQ1npel7v"
      }
    },
    {
      "cell_type": "code",
      "metadata": {
        "id": "83nbAXbJEGzR",
        "colab": {
          "base_uri": "https://localhost:8080/",
          "height": 423
        },
        "outputId": "c0b58793-cb20-4e81-c338-6d8e542357d1"
      },
      "source": [
        "pml_gcr = pd.merge(zona_gcr,pml,left_on='ZONA DE CARGA',right_on='Zona')\n",
        "pml_gcr"
      ],
      "execution_count": null,
      "outputs": [
        {
          "output_type": "execute_result",
          "data": {
            "text/html": [
              "\n",
              "  <div id=\"df-0f78ec66-27af-455e-b8d4-70b00ff6439d\">\n",
              "    <div class=\"colab-df-container\">\n",
              "      <div>\n",
              "<style scoped>\n",
              "    .dataframe tbody tr th:only-of-type {\n",
              "        vertical-align: middle;\n",
              "    }\n",
              "\n",
              "    .dataframe tbody tr th {\n",
              "        vertical-align: top;\n",
              "    }\n",
              "\n",
              "    .dataframe thead th {\n",
              "        text-align: right;\n",
              "    }\n",
              "</style>\n",
              "<table border=\"1\" class=\"dataframe\">\n",
              "  <thead>\n",
              "    <tr style=\"text-align: right;\">\n",
              "      <th></th>\n",
              "      <th>ZONA DE CARGA</th>\n",
              "      <th>CENTRO DE CONTROL REGIONAL</th>\n",
              "      <th>Fecha</th>\n",
              "      <th>Zona</th>\n",
              "      <th>PML</th>\n",
              "    </tr>\n",
              "  </thead>\n",
              "  <tbody>\n",
              "    <tr>\n",
              "      <th>0</th>\n",
              "      <td>CENTRO ORIENTE</td>\n",
              "      <td>CENTRAL</td>\n",
              "      <td>2020-01-01</td>\n",
              "      <td>CENTRO ORIENTE</td>\n",
              "      <td>343.659583</td>\n",
              "    </tr>\n",
              "    <tr>\n",
              "      <th>1</th>\n",
              "      <td>CENTRO ORIENTE</td>\n",
              "      <td>CENTRAL</td>\n",
              "      <td>2020-01-02</td>\n",
              "      <td>CENTRO ORIENTE</td>\n",
              "      <td>494.065417</td>\n",
              "    </tr>\n",
              "    <tr>\n",
              "      <th>2</th>\n",
              "      <td>CENTRO ORIENTE</td>\n",
              "      <td>CENTRAL</td>\n",
              "      <td>2020-01-03</td>\n",
              "      <td>CENTRO ORIENTE</td>\n",
              "      <td>553.409167</td>\n",
              "    </tr>\n",
              "    <tr>\n",
              "      <th>3</th>\n",
              "      <td>CENTRO ORIENTE</td>\n",
              "      <td>CENTRAL</td>\n",
              "      <td>2020-01-04</td>\n",
              "      <td>CENTRO ORIENTE</td>\n",
              "      <td>437.542083</td>\n",
              "    </tr>\n",
              "    <tr>\n",
              "      <th>4</th>\n",
              "      <td>CENTRO ORIENTE</td>\n",
              "      <td>CENTRAL</td>\n",
              "      <td>2020-01-05</td>\n",
              "      <td>CENTRO ORIENTE</td>\n",
              "      <td>326.520000</td>\n",
              "    </tr>\n",
              "    <tr>\n",
              "      <th>...</th>\n",
              "      <td>...</td>\n",
              "      <td>...</td>\n",
              "      <td>...</td>\n",
              "      <td>...</td>\n",
              "      <td>...</td>\n",
              "    </tr>\n",
              "    <tr>\n",
              "      <th>37693</th>\n",
              "      <td>TICUL</td>\n",
              "      <td>PENINSULAR</td>\n",
              "      <td>2020-12-27</td>\n",
              "      <td>TICUL</td>\n",
              "      <td>497.810417</td>\n",
              "    </tr>\n",
              "    <tr>\n",
              "      <th>37694</th>\n",
              "      <td>TICUL</td>\n",
              "      <td>PENINSULAR</td>\n",
              "      <td>2020-12-28</td>\n",
              "      <td>TICUL</td>\n",
              "      <td>546.875833</td>\n",
              "    </tr>\n",
              "    <tr>\n",
              "      <th>37695</th>\n",
              "      <td>TICUL</td>\n",
              "      <td>PENINSULAR</td>\n",
              "      <td>2020-12-29</td>\n",
              "      <td>TICUL</td>\n",
              "      <td>479.599583</td>\n",
              "    </tr>\n",
              "    <tr>\n",
              "      <th>37696</th>\n",
              "      <td>TICUL</td>\n",
              "      <td>PENINSULAR</td>\n",
              "      <td>2020-12-30</td>\n",
              "      <td>TICUL</td>\n",
              "      <td>529.461250</td>\n",
              "    </tr>\n",
              "    <tr>\n",
              "      <th>37697</th>\n",
              "      <td>TICUL</td>\n",
              "      <td>PENINSULAR</td>\n",
              "      <td>2020-12-31</td>\n",
              "      <td>TICUL</td>\n",
              "      <td>469.197500</td>\n",
              "    </tr>\n",
              "  </tbody>\n",
              "</table>\n",
              "<p>37698 rows × 5 columns</p>\n",
              "</div>\n",
              "      <button class=\"colab-df-convert\" onclick=\"convertToInteractive('df-0f78ec66-27af-455e-b8d4-70b00ff6439d')\"\n",
              "              title=\"Convert this dataframe to an interactive table.\"\n",
              "              style=\"display:none;\">\n",
              "        \n",
              "  <svg xmlns=\"http://www.w3.org/2000/svg\" height=\"24px\"viewBox=\"0 0 24 24\"\n",
              "       width=\"24px\">\n",
              "    <path d=\"M0 0h24v24H0V0z\" fill=\"none\"/>\n",
              "    <path d=\"M18.56 5.44l.94 2.06.94-2.06 2.06-.94-2.06-.94-.94-2.06-.94 2.06-2.06.94zm-11 1L8.5 8.5l.94-2.06 2.06-.94-2.06-.94L8.5 2.5l-.94 2.06-2.06.94zm10 10l.94 2.06.94-2.06 2.06-.94-2.06-.94-.94-2.06-.94 2.06-2.06.94z\"/><path d=\"M17.41 7.96l-1.37-1.37c-.4-.4-.92-.59-1.43-.59-.52 0-1.04.2-1.43.59L10.3 9.45l-7.72 7.72c-.78.78-.78 2.05 0 2.83L4 21.41c.39.39.9.59 1.41.59.51 0 1.02-.2 1.41-.59l7.78-7.78 2.81-2.81c.8-.78.8-2.07 0-2.86zM5.41 20L4 18.59l7.72-7.72 1.47 1.35L5.41 20z\"/>\n",
              "  </svg>\n",
              "      </button>\n",
              "      \n",
              "  <style>\n",
              "    .colab-df-container {\n",
              "      display:flex;\n",
              "      flex-wrap:wrap;\n",
              "      gap: 12px;\n",
              "    }\n",
              "\n",
              "    .colab-df-convert {\n",
              "      background-color: #E8F0FE;\n",
              "      border: none;\n",
              "      border-radius: 50%;\n",
              "      cursor: pointer;\n",
              "      display: none;\n",
              "      fill: #1967D2;\n",
              "      height: 32px;\n",
              "      padding: 0 0 0 0;\n",
              "      width: 32px;\n",
              "    }\n",
              "\n",
              "    .colab-df-convert:hover {\n",
              "      background-color: #E2EBFA;\n",
              "      box-shadow: 0px 1px 2px rgba(60, 64, 67, 0.3), 0px 1px 3px 1px rgba(60, 64, 67, 0.15);\n",
              "      fill: #174EA6;\n",
              "    }\n",
              "\n",
              "    [theme=dark] .colab-df-convert {\n",
              "      background-color: #3B4455;\n",
              "      fill: #D2E3FC;\n",
              "    }\n",
              "\n",
              "    [theme=dark] .colab-df-convert:hover {\n",
              "      background-color: #434B5C;\n",
              "      box-shadow: 0px 1px 3px 1px rgba(0, 0, 0, 0.15);\n",
              "      filter: drop-shadow(0px 1px 2px rgba(0, 0, 0, 0.3));\n",
              "      fill: #FFFFFF;\n",
              "    }\n",
              "  </style>\n",
              "\n",
              "      <script>\n",
              "        const buttonEl =\n",
              "          document.querySelector('#df-0f78ec66-27af-455e-b8d4-70b00ff6439d button.colab-df-convert');\n",
              "        buttonEl.style.display =\n",
              "          google.colab.kernel.accessAllowed ? 'block' : 'none';\n",
              "\n",
              "        async function convertToInteractive(key) {\n",
              "          const element = document.querySelector('#df-0f78ec66-27af-455e-b8d4-70b00ff6439d');\n",
              "          const dataTable =\n",
              "            await google.colab.kernel.invokeFunction('convertToInteractive',\n",
              "                                                     [key], {});\n",
              "          if (!dataTable) return;\n",
              "\n",
              "          const docLinkHtml = 'Like what you see? Visit the ' +\n",
              "            '<a target=\"_blank\" href=https://colab.research.google.com/notebooks/data_table.ipynb>data table notebook</a>'\n",
              "            + ' to learn more about interactive tables.';\n",
              "          element.innerHTML = '';\n",
              "          dataTable['output_type'] = 'display_data';\n",
              "          await google.colab.output.renderOutput(dataTable, element);\n",
              "          const docLink = document.createElement('div');\n",
              "          docLink.innerHTML = docLinkHtml;\n",
              "          element.appendChild(docLink);\n",
              "        }\n",
              "      </script>\n",
              "    </div>\n",
              "  </div>\n",
              "  "
            ],
            "text/plain": [
              "        ZONA DE CARGA CENTRO DE CONTROL REGIONAL  ...            Zona         PML\n",
              "0      CENTRO ORIENTE                    CENTRAL  ...  CENTRO ORIENTE  343.659583\n",
              "1      CENTRO ORIENTE                    CENTRAL  ...  CENTRO ORIENTE  494.065417\n",
              "2      CENTRO ORIENTE                    CENTRAL  ...  CENTRO ORIENTE  553.409167\n",
              "3      CENTRO ORIENTE                    CENTRAL  ...  CENTRO ORIENTE  437.542083\n",
              "4      CENTRO ORIENTE                    CENTRAL  ...  CENTRO ORIENTE  326.520000\n",
              "...               ...                        ...  ...             ...         ...\n",
              "37693           TICUL                 PENINSULAR  ...           TICUL  497.810417\n",
              "37694           TICUL                 PENINSULAR  ...           TICUL  546.875833\n",
              "37695           TICUL                 PENINSULAR  ...           TICUL  479.599583\n",
              "37696           TICUL                 PENINSULAR  ...           TICUL  529.461250\n",
              "37697           TICUL                 PENINSULAR  ...           TICUL  469.197500\n",
              "\n",
              "[37698 rows x 5 columns]"
            ]
          },
          "metadata": {},
          "execution_count": 4
        }
      ]
    },
    {
      "cell_type": "code",
      "source": [
        "#pml_gcr.drop(labels='ZONA DE CARGA',axis=1, inplace = True)\n",
        "pml_gcr.rename(columns={'CENTRO DE CONTROL REGIONAL':'GCR'},inplace=True)"
      ],
      "metadata": {
        "id": "iYFXaELOgdjQ"
      },
      "execution_count": null,
      "outputs": []
    },
    {
      "cell_type": "code",
      "source": [
        "pml_gcr"
      ],
      "metadata": {
        "colab": {
          "base_uri": "https://localhost:8080/",
          "height": 423
        },
        "id": "TaFKO4S5iBrj",
        "outputId": "c75bad99-c5be-4d70-90c1-1a11cced594c"
      },
      "execution_count": null,
      "outputs": [
        {
          "output_type": "execute_result",
          "data": {
            "text/html": [
              "\n",
              "  <div id=\"df-631fc24f-d7c8-4133-8096-ad125fbd1360\">\n",
              "    <div class=\"colab-df-container\">\n",
              "      <div>\n",
              "<style scoped>\n",
              "    .dataframe tbody tr th:only-of-type {\n",
              "        vertical-align: middle;\n",
              "    }\n",
              "\n",
              "    .dataframe tbody tr th {\n",
              "        vertical-align: top;\n",
              "    }\n",
              "\n",
              "    .dataframe thead th {\n",
              "        text-align: right;\n",
              "    }\n",
              "</style>\n",
              "<table border=\"1\" class=\"dataframe\">\n",
              "  <thead>\n",
              "    <tr style=\"text-align: right;\">\n",
              "      <th></th>\n",
              "      <th>ZONA DE CARGA</th>\n",
              "      <th>GCR</th>\n",
              "      <th>Fecha</th>\n",
              "      <th>Zona</th>\n",
              "      <th>PML</th>\n",
              "    </tr>\n",
              "  </thead>\n",
              "  <tbody>\n",
              "    <tr>\n",
              "      <th>0</th>\n",
              "      <td>CENTRO ORIENTE</td>\n",
              "      <td>CENTRAL</td>\n",
              "      <td>2020-01-01</td>\n",
              "      <td>CENTRO ORIENTE</td>\n",
              "      <td>343.659583</td>\n",
              "    </tr>\n",
              "    <tr>\n",
              "      <th>1</th>\n",
              "      <td>CENTRO ORIENTE</td>\n",
              "      <td>CENTRAL</td>\n",
              "      <td>2020-01-02</td>\n",
              "      <td>CENTRO ORIENTE</td>\n",
              "      <td>494.065417</td>\n",
              "    </tr>\n",
              "    <tr>\n",
              "      <th>2</th>\n",
              "      <td>CENTRO ORIENTE</td>\n",
              "      <td>CENTRAL</td>\n",
              "      <td>2020-01-03</td>\n",
              "      <td>CENTRO ORIENTE</td>\n",
              "      <td>553.409167</td>\n",
              "    </tr>\n",
              "    <tr>\n",
              "      <th>3</th>\n",
              "      <td>CENTRO ORIENTE</td>\n",
              "      <td>CENTRAL</td>\n",
              "      <td>2020-01-04</td>\n",
              "      <td>CENTRO ORIENTE</td>\n",
              "      <td>437.542083</td>\n",
              "    </tr>\n",
              "    <tr>\n",
              "      <th>4</th>\n",
              "      <td>CENTRO ORIENTE</td>\n",
              "      <td>CENTRAL</td>\n",
              "      <td>2020-01-05</td>\n",
              "      <td>CENTRO ORIENTE</td>\n",
              "      <td>326.520000</td>\n",
              "    </tr>\n",
              "    <tr>\n",
              "      <th>...</th>\n",
              "      <td>...</td>\n",
              "      <td>...</td>\n",
              "      <td>...</td>\n",
              "      <td>...</td>\n",
              "      <td>...</td>\n",
              "    </tr>\n",
              "    <tr>\n",
              "      <th>37693</th>\n",
              "      <td>TICUL</td>\n",
              "      <td>PENINSULAR</td>\n",
              "      <td>2020-12-27</td>\n",
              "      <td>TICUL</td>\n",
              "      <td>497.810417</td>\n",
              "    </tr>\n",
              "    <tr>\n",
              "      <th>37694</th>\n",
              "      <td>TICUL</td>\n",
              "      <td>PENINSULAR</td>\n",
              "      <td>2020-12-28</td>\n",
              "      <td>TICUL</td>\n",
              "      <td>546.875833</td>\n",
              "    </tr>\n",
              "    <tr>\n",
              "      <th>37695</th>\n",
              "      <td>TICUL</td>\n",
              "      <td>PENINSULAR</td>\n",
              "      <td>2020-12-29</td>\n",
              "      <td>TICUL</td>\n",
              "      <td>479.599583</td>\n",
              "    </tr>\n",
              "    <tr>\n",
              "      <th>37696</th>\n",
              "      <td>TICUL</td>\n",
              "      <td>PENINSULAR</td>\n",
              "      <td>2020-12-30</td>\n",
              "      <td>TICUL</td>\n",
              "      <td>529.461250</td>\n",
              "    </tr>\n",
              "    <tr>\n",
              "      <th>37697</th>\n",
              "      <td>TICUL</td>\n",
              "      <td>PENINSULAR</td>\n",
              "      <td>2020-12-31</td>\n",
              "      <td>TICUL</td>\n",
              "      <td>469.197500</td>\n",
              "    </tr>\n",
              "  </tbody>\n",
              "</table>\n",
              "<p>37698 rows × 5 columns</p>\n",
              "</div>\n",
              "      <button class=\"colab-df-convert\" onclick=\"convertToInteractive('df-631fc24f-d7c8-4133-8096-ad125fbd1360')\"\n",
              "              title=\"Convert this dataframe to an interactive table.\"\n",
              "              style=\"display:none;\">\n",
              "        \n",
              "  <svg xmlns=\"http://www.w3.org/2000/svg\" height=\"24px\"viewBox=\"0 0 24 24\"\n",
              "       width=\"24px\">\n",
              "    <path d=\"M0 0h24v24H0V0z\" fill=\"none\"/>\n",
              "    <path d=\"M18.56 5.44l.94 2.06.94-2.06 2.06-.94-2.06-.94-.94-2.06-.94 2.06-2.06.94zm-11 1L8.5 8.5l.94-2.06 2.06-.94-2.06-.94L8.5 2.5l-.94 2.06-2.06.94zm10 10l.94 2.06.94-2.06 2.06-.94-2.06-.94-.94-2.06-.94 2.06-2.06.94z\"/><path d=\"M17.41 7.96l-1.37-1.37c-.4-.4-.92-.59-1.43-.59-.52 0-1.04.2-1.43.59L10.3 9.45l-7.72 7.72c-.78.78-.78 2.05 0 2.83L4 21.41c.39.39.9.59 1.41.59.51 0 1.02-.2 1.41-.59l7.78-7.78 2.81-2.81c.8-.78.8-2.07 0-2.86zM5.41 20L4 18.59l7.72-7.72 1.47 1.35L5.41 20z\"/>\n",
              "  </svg>\n",
              "      </button>\n",
              "      \n",
              "  <style>\n",
              "    .colab-df-container {\n",
              "      display:flex;\n",
              "      flex-wrap:wrap;\n",
              "      gap: 12px;\n",
              "    }\n",
              "\n",
              "    .colab-df-convert {\n",
              "      background-color: #E8F0FE;\n",
              "      border: none;\n",
              "      border-radius: 50%;\n",
              "      cursor: pointer;\n",
              "      display: none;\n",
              "      fill: #1967D2;\n",
              "      height: 32px;\n",
              "      padding: 0 0 0 0;\n",
              "      width: 32px;\n",
              "    }\n",
              "\n",
              "    .colab-df-convert:hover {\n",
              "      background-color: #E2EBFA;\n",
              "      box-shadow: 0px 1px 2px rgba(60, 64, 67, 0.3), 0px 1px 3px 1px rgba(60, 64, 67, 0.15);\n",
              "      fill: #174EA6;\n",
              "    }\n",
              "\n",
              "    [theme=dark] .colab-df-convert {\n",
              "      background-color: #3B4455;\n",
              "      fill: #D2E3FC;\n",
              "    }\n",
              "\n",
              "    [theme=dark] .colab-df-convert:hover {\n",
              "      background-color: #434B5C;\n",
              "      box-shadow: 0px 1px 3px 1px rgba(0, 0, 0, 0.15);\n",
              "      filter: drop-shadow(0px 1px 2px rgba(0, 0, 0, 0.3));\n",
              "      fill: #FFFFFF;\n",
              "    }\n",
              "  </style>\n",
              "\n",
              "      <script>\n",
              "        const buttonEl =\n",
              "          document.querySelector('#df-631fc24f-d7c8-4133-8096-ad125fbd1360 button.colab-df-convert');\n",
              "        buttonEl.style.display =\n",
              "          google.colab.kernel.accessAllowed ? 'block' : 'none';\n",
              "\n",
              "        async function convertToInteractive(key) {\n",
              "          const element = document.querySelector('#df-631fc24f-d7c8-4133-8096-ad125fbd1360');\n",
              "          const dataTable =\n",
              "            await google.colab.kernel.invokeFunction('convertToInteractive',\n",
              "                                                     [key], {});\n",
              "          if (!dataTable) return;\n",
              "\n",
              "          const docLinkHtml = 'Like what you see? Visit the ' +\n",
              "            '<a target=\"_blank\" href=https://colab.research.google.com/notebooks/data_table.ipynb>data table notebook</a>'\n",
              "            + ' to learn more about interactive tables.';\n",
              "          element.innerHTML = '';\n",
              "          dataTable['output_type'] = 'display_data';\n",
              "          await google.colab.output.renderOutput(dataTable, element);\n",
              "          const docLink = document.createElement('div');\n",
              "          docLink.innerHTML = docLinkHtml;\n",
              "          element.appendChild(docLink);\n",
              "        }\n",
              "      </script>\n",
              "    </div>\n",
              "  </div>\n",
              "  "
            ],
            "text/plain": [
              "        ZONA DE CARGA         GCR      Fecha            Zona         PML\n",
              "0      CENTRO ORIENTE     CENTRAL 2020-01-01  CENTRO ORIENTE  343.659583\n",
              "1      CENTRO ORIENTE     CENTRAL 2020-01-02  CENTRO ORIENTE  494.065417\n",
              "2      CENTRO ORIENTE     CENTRAL 2020-01-03  CENTRO ORIENTE  553.409167\n",
              "3      CENTRO ORIENTE     CENTRAL 2020-01-04  CENTRO ORIENTE  437.542083\n",
              "4      CENTRO ORIENTE     CENTRAL 2020-01-05  CENTRO ORIENTE  326.520000\n",
              "...               ...         ...        ...             ...         ...\n",
              "37693           TICUL  PENINSULAR 2020-12-27           TICUL  497.810417\n",
              "37694           TICUL  PENINSULAR 2020-12-28           TICUL  546.875833\n",
              "37695           TICUL  PENINSULAR 2020-12-29           TICUL  479.599583\n",
              "37696           TICUL  PENINSULAR 2020-12-30           TICUL  529.461250\n",
              "37697           TICUL  PENINSULAR 2020-12-31           TICUL  469.197500\n",
              "\n",
              "[37698 rows x 5 columns]"
            ]
          },
          "metadata": {},
          "execution_count": 6
        }
      ]
    },
    {
      "cell_type": "markdown",
      "source": [
        "Convertimos la columna fecha a variable tiempo con ```pd.to_datetime()``` ."
      ],
      "metadata": {
        "id": "cCLvanNIgegz"
      }
    },
    {
      "cell_type": "code",
      "source": [
        "pml_gcr['Fecha'] = pd.to_datetime(pml_gcr['Fecha'])\n",
        "pml_gcr['Fecha']"
      ],
      "metadata": {
        "colab": {
          "base_uri": "https://localhost:8080/"
        },
        "id": "pHaKxPHHiHQi",
        "outputId": "d5d6637f-aba3-4b42-e1dc-24d450e3a788"
      },
      "execution_count": null,
      "outputs": [
        {
          "output_type": "execute_result",
          "data": {
            "text/plain": [
              "0       2020-01-01\n",
              "1       2020-01-02\n",
              "2       2020-01-03\n",
              "3       2020-01-04\n",
              "4       2020-01-05\n",
              "           ...    \n",
              "37693   2020-12-27\n",
              "37694   2020-12-28\n",
              "37695   2020-12-29\n",
              "37696   2020-12-30\n",
              "37697   2020-12-31\n",
              "Name: Fecha, Length: 37698, dtype: datetime64[ns]"
            ]
          },
          "metadata": {},
          "execution_count": 7
        }
      ]
    },
    {
      "cell_type": "markdown",
      "source": [
        "Voy añadir una nueva columna en mi dataframe \n",
        "donde solo tendré mes y año."
      ],
      "metadata": {
        "id": "Lcj96KIojnMY"
      }
    },
    {
      "cell_type": "code",
      "source": [
        "pml_gcr['Mes'] = pml_gcr['Fecha'].dt.strftime('%Y-%m')\n",
        "pml_gcr.head(400)"
      ],
      "metadata": {
        "colab": {
          "base_uri": "https://localhost:8080/",
          "height": 423
        },
        "id": "E13Rw9rpjr64",
        "outputId": "03caf355-bfc8-41a9-bd34-4262d911b4dc"
      },
      "execution_count": null,
      "outputs": [
        {
          "output_type": "execute_result",
          "data": {
            "text/html": [
              "\n",
              "  <div id=\"df-a44622ed-8bc8-4a74-b111-89f6ab1b9066\">\n",
              "    <div class=\"colab-df-container\">\n",
              "      <div>\n",
              "<style scoped>\n",
              "    .dataframe tbody tr th:only-of-type {\n",
              "        vertical-align: middle;\n",
              "    }\n",
              "\n",
              "    .dataframe tbody tr th {\n",
              "        vertical-align: top;\n",
              "    }\n",
              "\n",
              "    .dataframe thead th {\n",
              "        text-align: right;\n",
              "    }\n",
              "</style>\n",
              "<table border=\"1\" class=\"dataframe\">\n",
              "  <thead>\n",
              "    <tr style=\"text-align: right;\">\n",
              "      <th></th>\n",
              "      <th>ZONA DE CARGA</th>\n",
              "      <th>GCR</th>\n",
              "      <th>Fecha</th>\n",
              "      <th>Zona</th>\n",
              "      <th>PML</th>\n",
              "      <th>Mes</th>\n",
              "    </tr>\n",
              "  </thead>\n",
              "  <tbody>\n",
              "    <tr>\n",
              "      <th>0</th>\n",
              "      <td>CENTRO ORIENTE</td>\n",
              "      <td>CENTRAL</td>\n",
              "      <td>2020-01-01</td>\n",
              "      <td>CENTRO ORIENTE</td>\n",
              "      <td>343.659583</td>\n",
              "      <td>2020-01</td>\n",
              "    </tr>\n",
              "    <tr>\n",
              "      <th>1</th>\n",
              "      <td>CENTRO ORIENTE</td>\n",
              "      <td>CENTRAL</td>\n",
              "      <td>2020-01-02</td>\n",
              "      <td>CENTRO ORIENTE</td>\n",
              "      <td>494.065417</td>\n",
              "      <td>2020-01</td>\n",
              "    </tr>\n",
              "    <tr>\n",
              "      <th>2</th>\n",
              "      <td>CENTRO ORIENTE</td>\n",
              "      <td>CENTRAL</td>\n",
              "      <td>2020-01-03</td>\n",
              "      <td>CENTRO ORIENTE</td>\n",
              "      <td>553.409167</td>\n",
              "      <td>2020-01</td>\n",
              "    </tr>\n",
              "    <tr>\n",
              "      <th>3</th>\n",
              "      <td>CENTRO ORIENTE</td>\n",
              "      <td>CENTRAL</td>\n",
              "      <td>2020-01-04</td>\n",
              "      <td>CENTRO ORIENTE</td>\n",
              "      <td>437.542083</td>\n",
              "      <td>2020-01</td>\n",
              "    </tr>\n",
              "    <tr>\n",
              "      <th>4</th>\n",
              "      <td>CENTRO ORIENTE</td>\n",
              "      <td>CENTRAL</td>\n",
              "      <td>2020-01-05</td>\n",
              "      <td>CENTRO ORIENTE</td>\n",
              "      <td>326.520000</td>\n",
              "      <td>2020-01</td>\n",
              "    </tr>\n",
              "    <tr>\n",
              "      <th>...</th>\n",
              "      <td>...</td>\n",
              "      <td>...</td>\n",
              "      <td>...</td>\n",
              "      <td>...</td>\n",
              "      <td>...</td>\n",
              "      <td>...</td>\n",
              "    </tr>\n",
              "    <tr>\n",
              "      <th>395</th>\n",
              "      <td>CENTRO ORIENTE</td>\n",
              "      <td>ORIENTAL</td>\n",
              "      <td>2020-01-30</td>\n",
              "      <td>CENTRO ORIENTE</td>\n",
              "      <td>417.618750</td>\n",
              "      <td>2020-01</td>\n",
              "    </tr>\n",
              "    <tr>\n",
              "      <th>396</th>\n",
              "      <td>CENTRO ORIENTE</td>\n",
              "      <td>ORIENTAL</td>\n",
              "      <td>2020-01-31</td>\n",
              "      <td>CENTRO ORIENTE</td>\n",
              "      <td>475.912500</td>\n",
              "      <td>2020-01</td>\n",
              "    </tr>\n",
              "    <tr>\n",
              "      <th>397</th>\n",
              "      <td>CENTRO ORIENTE</td>\n",
              "      <td>ORIENTAL</td>\n",
              "      <td>2020-02-01</td>\n",
              "      <td>CENTRO ORIENTE</td>\n",
              "      <td>474.470417</td>\n",
              "      <td>2020-02</td>\n",
              "    </tr>\n",
              "    <tr>\n",
              "      <th>398</th>\n",
              "      <td>CENTRO ORIENTE</td>\n",
              "      <td>ORIENTAL</td>\n",
              "      <td>2020-02-02</td>\n",
              "      <td>CENTRO ORIENTE</td>\n",
              "      <td>353.164167</td>\n",
              "      <td>2020-02</td>\n",
              "    </tr>\n",
              "    <tr>\n",
              "      <th>399</th>\n",
              "      <td>CENTRO ORIENTE</td>\n",
              "      <td>ORIENTAL</td>\n",
              "      <td>2020-02-03</td>\n",
              "      <td>CENTRO ORIENTE</td>\n",
              "      <td>461.608333</td>\n",
              "      <td>2020-02</td>\n",
              "    </tr>\n",
              "  </tbody>\n",
              "</table>\n",
              "<p>400 rows × 6 columns</p>\n",
              "</div>\n",
              "      <button class=\"colab-df-convert\" onclick=\"convertToInteractive('df-a44622ed-8bc8-4a74-b111-89f6ab1b9066')\"\n",
              "              title=\"Convert this dataframe to an interactive table.\"\n",
              "              style=\"display:none;\">\n",
              "        \n",
              "  <svg xmlns=\"http://www.w3.org/2000/svg\" height=\"24px\"viewBox=\"0 0 24 24\"\n",
              "       width=\"24px\">\n",
              "    <path d=\"M0 0h24v24H0V0z\" fill=\"none\"/>\n",
              "    <path d=\"M18.56 5.44l.94 2.06.94-2.06 2.06-.94-2.06-.94-.94-2.06-.94 2.06-2.06.94zm-11 1L8.5 8.5l.94-2.06 2.06-.94-2.06-.94L8.5 2.5l-.94 2.06-2.06.94zm10 10l.94 2.06.94-2.06 2.06-.94-2.06-.94-.94-2.06-.94 2.06-2.06.94z\"/><path d=\"M17.41 7.96l-1.37-1.37c-.4-.4-.92-.59-1.43-.59-.52 0-1.04.2-1.43.59L10.3 9.45l-7.72 7.72c-.78.78-.78 2.05 0 2.83L4 21.41c.39.39.9.59 1.41.59.51 0 1.02-.2 1.41-.59l7.78-7.78 2.81-2.81c.8-.78.8-2.07 0-2.86zM5.41 20L4 18.59l7.72-7.72 1.47 1.35L5.41 20z\"/>\n",
              "  </svg>\n",
              "      </button>\n",
              "      \n",
              "  <style>\n",
              "    .colab-df-container {\n",
              "      display:flex;\n",
              "      flex-wrap:wrap;\n",
              "      gap: 12px;\n",
              "    }\n",
              "\n",
              "    .colab-df-convert {\n",
              "      background-color: #E8F0FE;\n",
              "      border: none;\n",
              "      border-radius: 50%;\n",
              "      cursor: pointer;\n",
              "      display: none;\n",
              "      fill: #1967D2;\n",
              "      height: 32px;\n",
              "      padding: 0 0 0 0;\n",
              "      width: 32px;\n",
              "    }\n",
              "\n",
              "    .colab-df-convert:hover {\n",
              "      background-color: #E2EBFA;\n",
              "      box-shadow: 0px 1px 2px rgba(60, 64, 67, 0.3), 0px 1px 3px 1px rgba(60, 64, 67, 0.15);\n",
              "      fill: #174EA6;\n",
              "    }\n",
              "\n",
              "    [theme=dark] .colab-df-convert {\n",
              "      background-color: #3B4455;\n",
              "      fill: #D2E3FC;\n",
              "    }\n",
              "\n",
              "    [theme=dark] .colab-df-convert:hover {\n",
              "      background-color: #434B5C;\n",
              "      box-shadow: 0px 1px 3px 1px rgba(0, 0, 0, 0.15);\n",
              "      filter: drop-shadow(0px 1px 2px rgba(0, 0, 0, 0.3));\n",
              "      fill: #FFFFFF;\n",
              "    }\n",
              "  </style>\n",
              "\n",
              "      <script>\n",
              "        const buttonEl =\n",
              "          document.querySelector('#df-a44622ed-8bc8-4a74-b111-89f6ab1b9066 button.colab-df-convert');\n",
              "        buttonEl.style.display =\n",
              "          google.colab.kernel.accessAllowed ? 'block' : 'none';\n",
              "\n",
              "        async function convertToInteractive(key) {\n",
              "          const element = document.querySelector('#df-a44622ed-8bc8-4a74-b111-89f6ab1b9066');\n",
              "          const dataTable =\n",
              "            await google.colab.kernel.invokeFunction('convertToInteractive',\n",
              "                                                     [key], {});\n",
              "          if (!dataTable) return;\n",
              "\n",
              "          const docLinkHtml = 'Like what you see? Visit the ' +\n",
              "            '<a target=\"_blank\" href=https://colab.research.google.com/notebooks/data_table.ipynb>data table notebook</a>'\n",
              "            + ' to learn more about interactive tables.';\n",
              "          element.innerHTML = '';\n",
              "          dataTable['output_type'] = 'display_data';\n",
              "          await google.colab.output.renderOutput(dataTable, element);\n",
              "          const docLink = document.createElement('div');\n",
              "          docLink.innerHTML = docLinkHtml;\n",
              "          element.appendChild(docLink);\n",
              "        }\n",
              "      </script>\n",
              "    </div>\n",
              "  </div>\n",
              "  "
            ],
            "text/plain": [
              "      ZONA DE CARGA       GCR      Fecha            Zona         PML      Mes\n",
              "0    CENTRO ORIENTE   CENTRAL 2020-01-01  CENTRO ORIENTE  343.659583  2020-01\n",
              "1    CENTRO ORIENTE   CENTRAL 2020-01-02  CENTRO ORIENTE  494.065417  2020-01\n",
              "2    CENTRO ORIENTE   CENTRAL 2020-01-03  CENTRO ORIENTE  553.409167  2020-01\n",
              "3    CENTRO ORIENTE   CENTRAL 2020-01-04  CENTRO ORIENTE  437.542083  2020-01\n",
              "4    CENTRO ORIENTE   CENTRAL 2020-01-05  CENTRO ORIENTE  326.520000  2020-01\n",
              "..              ...       ...        ...             ...         ...      ...\n",
              "395  CENTRO ORIENTE  ORIENTAL 2020-01-30  CENTRO ORIENTE  417.618750  2020-01\n",
              "396  CENTRO ORIENTE  ORIENTAL 2020-01-31  CENTRO ORIENTE  475.912500  2020-01\n",
              "397  CENTRO ORIENTE  ORIENTAL 2020-02-01  CENTRO ORIENTE  474.470417  2020-02\n",
              "398  CENTRO ORIENTE  ORIENTAL 2020-02-02  CENTRO ORIENTE  353.164167  2020-02\n",
              "399  CENTRO ORIENTE  ORIENTAL 2020-02-03  CENTRO ORIENTE  461.608333  2020-02\n",
              "\n",
              "[400 rows x 6 columns]"
            ]
          },
          "metadata": {},
          "execution_count": 8
        }
      ]
    },
    {
      "cell_type": "markdown",
      "metadata": {
        "id": "G_1xMY77nA5n"
      },
      "source": [
        "Hacemos el promedio mensual por GCR. Al aplicar la función ```.groupby()``` obtenemos un tipo de estructura de dato llamado 'data series' . Usamos la función ```reset_index()``` para regresarlo como al formato de 'dataframe'"
      ]
    },
    {
      "cell_type": "code",
      "source": [
        " gcr_mes_pml_prom = pml_gcr.groupby(by=['GCR','Mes'])['PML'].mean().reset_index()\n",
        "gcr_mes_pml_prom"
      ],
      "metadata": {
        "colab": {
          "base_uri": "https://localhost:8080/",
          "height": 423
        },
        "id": "L31Fk9SHmDYL",
        "outputId": "7002a803-bf25-4169-97fe-2328c96fd2c8"
      },
      "execution_count": null,
      "outputs": [
        {
          "output_type": "execute_result",
          "data": {
            "text/html": [
              "\n",
              "  <div id=\"df-aa8f2a19-2a71-4946-85c4-2aee9cdae1fb\">\n",
              "    <div class=\"colab-df-container\">\n",
              "      <div>\n",
              "<style scoped>\n",
              "    .dataframe tbody tr th:only-of-type {\n",
              "        vertical-align: middle;\n",
              "    }\n",
              "\n",
              "    .dataframe tbody tr th {\n",
              "        vertical-align: top;\n",
              "    }\n",
              "\n",
              "    .dataframe thead th {\n",
              "        text-align: right;\n",
              "    }\n",
              "</style>\n",
              "<table border=\"1\" class=\"dataframe\">\n",
              "  <thead>\n",
              "    <tr style=\"text-align: right;\">\n",
              "      <th></th>\n",
              "      <th>GCR</th>\n",
              "      <th>Mes</th>\n",
              "      <th>PML</th>\n",
              "    </tr>\n",
              "  </thead>\n",
              "  <tbody>\n",
              "    <tr>\n",
              "      <th>0</th>\n",
              "      <td>CENTRAL</td>\n",
              "      <td>2020-01</td>\n",
              "      <td>522.566924</td>\n",
              "    </tr>\n",
              "    <tr>\n",
              "      <th>1</th>\n",
              "      <td>CENTRAL</td>\n",
              "      <td>2020-02</td>\n",
              "      <td>584.024133</td>\n",
              "    </tr>\n",
              "    <tr>\n",
              "      <th>2</th>\n",
              "      <td>CENTRAL</td>\n",
              "      <td>2020-03</td>\n",
              "      <td>631.455950</td>\n",
              "    </tr>\n",
              "    <tr>\n",
              "      <th>3</th>\n",
              "      <td>CENTRAL</td>\n",
              "      <td>2020-04</td>\n",
              "      <td>572.229137</td>\n",
              "    </tr>\n",
              "    <tr>\n",
              "      <th>4</th>\n",
              "      <td>CENTRAL</td>\n",
              "      <td>2020-05</td>\n",
              "      <td>595.880414</td>\n",
              "    </tr>\n",
              "    <tr>\n",
              "      <th>...</th>\n",
              "      <td>...</td>\n",
              "      <td>...</td>\n",
              "      <td>...</td>\n",
              "    </tr>\n",
              "    <tr>\n",
              "      <th>79</th>\n",
              "      <td>PENINSULAR</td>\n",
              "      <td>2020-08</td>\n",
              "      <td>1029.696302</td>\n",
              "    </tr>\n",
              "    <tr>\n",
              "      <th>80</th>\n",
              "      <td>PENINSULAR</td>\n",
              "      <td>2020-09</td>\n",
              "      <td>1010.130653</td>\n",
              "    </tr>\n",
              "    <tr>\n",
              "      <th>81</th>\n",
              "      <td>PENINSULAR</td>\n",
              "      <td>2020-10</td>\n",
              "      <td>839.874316</td>\n",
              "    </tr>\n",
              "    <tr>\n",
              "      <th>82</th>\n",
              "      <td>PENINSULAR</td>\n",
              "      <td>2020-11</td>\n",
              "      <td>950.046101</td>\n",
              "    </tr>\n",
              "    <tr>\n",
              "      <th>83</th>\n",
              "      <td>PENINSULAR</td>\n",
              "      <td>2020-12</td>\n",
              "      <td>627.680081</td>\n",
              "    </tr>\n",
              "  </tbody>\n",
              "</table>\n",
              "<p>84 rows × 3 columns</p>\n",
              "</div>\n",
              "      <button class=\"colab-df-convert\" onclick=\"convertToInteractive('df-aa8f2a19-2a71-4946-85c4-2aee9cdae1fb')\"\n",
              "              title=\"Convert this dataframe to an interactive table.\"\n",
              "              style=\"display:none;\">\n",
              "        \n",
              "  <svg xmlns=\"http://www.w3.org/2000/svg\" height=\"24px\"viewBox=\"0 0 24 24\"\n",
              "       width=\"24px\">\n",
              "    <path d=\"M0 0h24v24H0V0z\" fill=\"none\"/>\n",
              "    <path d=\"M18.56 5.44l.94 2.06.94-2.06 2.06-.94-2.06-.94-.94-2.06-.94 2.06-2.06.94zm-11 1L8.5 8.5l.94-2.06 2.06-.94-2.06-.94L8.5 2.5l-.94 2.06-2.06.94zm10 10l.94 2.06.94-2.06 2.06-.94-2.06-.94-.94-2.06-.94 2.06-2.06.94z\"/><path d=\"M17.41 7.96l-1.37-1.37c-.4-.4-.92-.59-1.43-.59-.52 0-1.04.2-1.43.59L10.3 9.45l-7.72 7.72c-.78.78-.78 2.05 0 2.83L4 21.41c.39.39.9.59 1.41.59.51 0 1.02-.2 1.41-.59l7.78-7.78 2.81-2.81c.8-.78.8-2.07 0-2.86zM5.41 20L4 18.59l7.72-7.72 1.47 1.35L5.41 20z\"/>\n",
              "  </svg>\n",
              "      </button>\n",
              "      \n",
              "  <style>\n",
              "    .colab-df-container {\n",
              "      display:flex;\n",
              "      flex-wrap:wrap;\n",
              "      gap: 12px;\n",
              "    }\n",
              "\n",
              "    .colab-df-convert {\n",
              "      background-color: #E8F0FE;\n",
              "      border: none;\n",
              "      border-radius: 50%;\n",
              "      cursor: pointer;\n",
              "      display: none;\n",
              "      fill: #1967D2;\n",
              "      height: 32px;\n",
              "      padding: 0 0 0 0;\n",
              "      width: 32px;\n",
              "    }\n",
              "\n",
              "    .colab-df-convert:hover {\n",
              "      background-color: #E2EBFA;\n",
              "      box-shadow: 0px 1px 2px rgba(60, 64, 67, 0.3), 0px 1px 3px 1px rgba(60, 64, 67, 0.15);\n",
              "      fill: #174EA6;\n",
              "    }\n",
              "\n",
              "    [theme=dark] .colab-df-convert {\n",
              "      background-color: #3B4455;\n",
              "      fill: #D2E3FC;\n",
              "    }\n",
              "\n",
              "    [theme=dark] .colab-df-convert:hover {\n",
              "      background-color: #434B5C;\n",
              "      box-shadow: 0px 1px 3px 1px rgba(0, 0, 0, 0.15);\n",
              "      filter: drop-shadow(0px 1px 2px rgba(0, 0, 0, 0.3));\n",
              "      fill: #FFFFFF;\n",
              "    }\n",
              "  </style>\n",
              "\n",
              "      <script>\n",
              "        const buttonEl =\n",
              "          document.querySelector('#df-aa8f2a19-2a71-4946-85c4-2aee9cdae1fb button.colab-df-convert');\n",
              "        buttonEl.style.display =\n",
              "          google.colab.kernel.accessAllowed ? 'block' : 'none';\n",
              "\n",
              "        async function convertToInteractive(key) {\n",
              "          const element = document.querySelector('#df-aa8f2a19-2a71-4946-85c4-2aee9cdae1fb');\n",
              "          const dataTable =\n",
              "            await google.colab.kernel.invokeFunction('convertToInteractive',\n",
              "                                                     [key], {});\n",
              "          if (!dataTable) return;\n",
              "\n",
              "          const docLinkHtml = 'Like what you see? Visit the ' +\n",
              "            '<a target=\"_blank\" href=https://colab.research.google.com/notebooks/data_table.ipynb>data table notebook</a>'\n",
              "            + ' to learn more about interactive tables.';\n",
              "          element.innerHTML = '';\n",
              "          dataTable['output_type'] = 'display_data';\n",
              "          await google.colab.output.renderOutput(dataTable, element);\n",
              "          const docLink = document.createElement('div');\n",
              "          docLink.innerHTML = docLinkHtml;\n",
              "          element.appendChild(docLink);\n",
              "        }\n",
              "      </script>\n",
              "    </div>\n",
              "  </div>\n",
              "  "
            ],
            "text/plain": [
              "           GCR      Mes          PML\n",
              "0      CENTRAL  2020-01   522.566924\n",
              "1      CENTRAL  2020-02   584.024133\n",
              "2      CENTRAL  2020-03   631.455950\n",
              "3      CENTRAL  2020-04   572.229137\n",
              "4      CENTRAL  2020-05   595.880414\n",
              "..         ...      ...          ...\n",
              "79  PENINSULAR  2020-08  1029.696302\n",
              "80  PENINSULAR  2020-09  1010.130653\n",
              "81  PENINSULAR  2020-10   839.874316\n",
              "82  PENINSULAR  2020-11   950.046101\n",
              "83  PENINSULAR  2020-12   627.680081\n",
              "\n",
              "[84 rows x 3 columns]"
            ]
          },
          "metadata": {},
          "execution_count": 9
        }
      ]
    },
    {
      "cell_type": "code",
      "source": [
        "pip install plotly --upgrade"
      ],
      "metadata": {
        "colab": {
          "base_uri": "https://localhost:8080/"
        },
        "id": "4HP4m5PTPVP8",
        "outputId": "833381ed-39b2-4ac6-bfc8-a06257b5600e"
      },
      "execution_count": null,
      "outputs": [
        {
          "output_type": "stream",
          "name": "stdout",
          "text": [
            "Requirement already satisfied: plotly in /usr/local/lib/python3.7/dist-packages (4.4.1)\n",
            "Collecting plotly\n",
            "  Downloading plotly-5.5.0-py2.py3-none-any.whl (26.5 MB)\n",
            "\u001b[K     |████████████████████████████████| 26.5 MB 1.4 MB/s \n",
            "\u001b[?25hCollecting tenacity>=6.2.0\n",
            "  Downloading tenacity-8.0.1-py3-none-any.whl (24 kB)\n",
            "Requirement already satisfied: six in /usr/local/lib/python3.7/dist-packages (from plotly) (1.15.0)\n",
            "Installing collected packages: tenacity, plotly\n",
            "  Attempting uninstall: plotly\n",
            "    Found existing installation: plotly 4.4.1\n",
            "    Uninstalling plotly-4.4.1:\n",
            "      Successfully uninstalled plotly-4.4.1\n",
            "Successfully installed plotly-5.5.0 tenacity-8.0.1\n"
          ]
        }
      ]
    },
    {
      "cell_type": "code",
      "source": [
        "\n",
        "import plotly.express as px"
      ],
      "metadata": {
        "id": "jw2kRa4ZQlcS"
      },
      "execution_count": null,
      "outputs": []
    },
    {
      "cell_type": "code",
      "source": [
        "\n",
        "\n",
        "fig = px.line(gcr_mes_pml_prom, x='Mes', y = 'PML' , color ='GCR',markers=True,symbol='GCR', line_dash='GCR',title='Promedio mensual de PML por GCR en 2020',labels={'PML':'MXN/MWh'})\n",
        "\n",
        "fig.show()"
      ],
      "metadata": {
        "colab": {
          "base_uri": "https://localhost:8080/",
          "height": 542
        },
        "id": "tS5Ohv3qs_yn",
        "outputId": "06d4e83b-4552-476e-92c3-5bff097e3801"
      },
      "execution_count": null,
      "outputs": [
        {
          "output_type": "display_data",
          "data": {
            "text/html": [
              "<html>\n",
              "<head><meta charset=\"utf-8\" /></head>\n",
              "<body>\n",
              "    <div>            <script src=\"https://cdnjs.cloudflare.com/ajax/libs/mathjax/2.7.5/MathJax.js?config=TeX-AMS-MML_SVG\"></script><script type=\"text/javascript\">if (window.MathJax) {MathJax.Hub.Config({SVG: {font: \"STIX-Web\"}});}</script>                <script type=\"text/javascript\">window.PlotlyConfig = {MathJaxConfig: 'local'};</script>\n",
              "        <script src=\"https://cdn.plot.ly/plotly-2.8.3.min.js\"></script>                <div id=\"f53c568e-62aa-44da-bd31-ff95c64ad795\" class=\"plotly-graph-div\" style=\"height:525px; width:100%;\"></div>            <script type=\"text/javascript\">                                    window.PLOTLYENV=window.PLOTLYENV || {};                                    if (document.getElementById(\"f53c568e-62aa-44da-bd31-ff95c64ad795\")) {                    Plotly.newPlot(                        \"f53c568e-62aa-44da-bd31-ff95c64ad795\",                        [{\"hovertemplate\":\"GCR=CENTRAL<br>Mes=%{x}<br>MXN/MWh=%{y}<extra></extra>\",\"legendgroup\":\"CENTRAL\",\"line\":{\"color\":\"#636efa\",\"dash\":\"solid\"},\"marker\":{\"symbol\":\"circle\"},\"mode\":\"lines+markers\",\"name\":\"CENTRAL\",\"orientation\":\"v\",\"showlegend\":true,\"x\":[\"2020-01\",\"2020-02\",\"2020-03\",\"2020-04\",\"2020-05\",\"2020-06\",\"2020-07\",\"2020-08\",\"2020-09\",\"2020-10\",\"2020-11\",\"2020-12\"],\"xaxis\":\"x\",\"y\":[522.5669242831542,584.0241331417623,631.4559498207885,572.2291370772947,595.8804144265231,642.252916666667,624.0774775985666,757.3970743727599,673.1118333333337,737.6808943548384,900.7874884259255,616.1946931003583],\"yaxis\":\"y\",\"type\":\"scatter\"},{\"hovertemplate\":\"GCR=NORESTE<br>Mes=%{x}<br>MXN/MWh=%{y}<extra></extra>\",\"legendgroup\":\"NORESTE\",\"line\":{\"color\":\"#EF553B\",\"dash\":\"dot\"},\"marker\":{\"symbol\":\"diamond\"},\"mode\":\"lines+markers\",\"name\":\"NORESTE\",\"orientation\":\"v\",\"showlegend\":true,\"x\":[\"2020-01\",\"2020-02\",\"2020-03\",\"2020-04\",\"2020-05\",\"2020-06\",\"2020-07\",\"2020-08\",\"2020-09\",\"2020-10\",\"2020-11\",\"2020-12\"],\"xaxis\":\"x\",\"y\":[379.81548593879216,353.5456863395225,411.85710607940484,409.73275650315895,455.23834574028155,471.86212393162396,530.1102843258892,637.7384263854424,514.2057190170941,561.8076513647645,670.6898044871793,481.47223635235787],\"yaxis\":\"y\",\"type\":\"scatter\"},{\"hovertemplate\":\"GCR=NOROESTE<br>Mes=%{x}<br>MXN/MWh=%{y}<extra></extra>\",\"legendgroup\":\"NOROESTE\",\"line\":{\"color\":\"#00cc96\",\"dash\":\"dash\"},\"marker\":{\"symbol\":\"square\"},\"mode\":\"lines+markers\",\"name\":\"NOROESTE\",\"orientation\":\"v\",\"showlegend\":true,\"x\":[\"2020-01\",\"2020-02\",\"2020-03\",\"2020-04\",\"2020-05\",\"2020-06\",\"2020-07\",\"2020-08\",\"2020-09\",\"2020-10\",\"2020-11\",\"2020-12\"],\"xaxis\":\"x\",\"y\":[247.13531586021512,202.55635201149437,206.9128346774194,204.89019408212548,460.4372889784947,500.85763333333324,520.0646827956988,638.6805510752686,539.9810777777777,451.2236645698924,608.4709444444449,438.48608602150586],\"yaxis\":\"y\",\"type\":\"scatter\"},{\"hovertemplate\":\"GCR=NORTE<br>Mes=%{x}<br>MXN/MWh=%{y}<extra></extra>\",\"legendgroup\":\"NORTE\",\"line\":{\"color\":\"#ab63fa\",\"dash\":\"longdash\"},\"marker\":{\"symbol\":\"x\"},\"mode\":\"lines+markers\",\"name\":\"NORTE\",\"orientation\":\"v\",\"showlegend\":true,\"x\":[\"2020-01\",\"2020-02\",\"2020-03\",\"2020-04\",\"2020-05\",\"2020-06\",\"2020-07\",\"2020-08\",\"2020-09\",\"2020-10\",\"2020-11\",\"2020-12\"],\"xaxis\":\"x\",\"y\":[315.5642590725805,265.066275143678,307.3395598118281,311.4498013285025,469.2486273521502,497.80748437500006,531.608242607527,640.0177402553762,487.8204565972224,448.16841196236567,606.6045538194444,469.01902385752675],\"yaxis\":\"y\",\"type\":\"scatter\"},{\"hovertemplate\":\"GCR=OCCIDENTAL<br>Mes=%{x}<br>MXN/MWh=%{y}<extra></extra>\",\"legendgroup\":\"OCCIDENTAL\",\"line\":{\"color\":\"#FFA15A\",\"dash\":\"dashdot\"},\"marker\":{\"symbol\":\"cross\"},\"mode\":\"lines+markers\",\"name\":\"OCCIDENTAL\",\"orientation\":\"v\",\"showlegend\":true,\"x\":[\"2020-01\",\"2020-02\",\"2020-03\",\"2020-04\",\"2020-05\",\"2020-06\",\"2020-07\",\"2020-08\",\"2020-09\",\"2020-10\",\"2020-11\",\"2020-12\"],\"xaxis\":\"x\",\"y\":[492.00236145574877,545.1850458664896,580.9702057485521,502.9350145159794,544.0765348428458,583.3506495726488,590.3755562448306,699.367096257238,600.2869220085471,690.52171710091,870.8852596153844,598.5644711538463],\"yaxis\":\"y\",\"type\":\"scatter\"},{\"hovertemplate\":\"GCR=ORIENTAL<br>Mes=%{x}<br>MXN/MWh=%{y}<extra></extra>\",\"legendgroup\":\"ORIENTAL\",\"line\":{\"color\":\"#19d3f3\",\"dash\":\"longdashdot\"},\"marker\":{\"symbol\":\"circle\"},\"mode\":\"lines+markers\",\"name\":\"ORIENTAL\",\"orientation\":\"v\",\"showlegend\":true,\"x\":[\"2020-01\",\"2020-02\",\"2020-03\",\"2020-04\",\"2020-05\",\"2020-06\",\"2020-07\",\"2020-08\",\"2020-09\",\"2020-10\",\"2020-11\",\"2020-12\"],\"xaxis\":\"x\",\"y\":[542.0408673555105,637.6278291127871,732.9810017641142,650.4870338164252,648.946957745296,682.0579244791678,665.7718850806451,814.2300344422041,759.6058203124999,786.3541302587355,926.9077986111109,624.3745556115592],\"yaxis\":\"y\",\"type\":\"scatter\"},{\"hovertemplate\":\"GCR=PENINSULAR<br>Mes=%{x}<br>MXN/MWh=%{y}<extra></extra>\",\"legendgroup\":\"PENINSULAR\",\"line\":{\"color\":\"#FF6692\",\"dash\":\"solid\"},\"marker\":{\"symbol\":\"diamond\"},\"mode\":\"lines+markers\",\"name\":\"PENINSULAR\",\"orientation\":\"v\",\"showlegend\":true,\"x\":[\"2020-01\",\"2020-02\",\"2020-03\",\"2020-04\",\"2020-05\",\"2020-06\",\"2020-07\",\"2020-08\",\"2020-09\",\"2020-10\",\"2020-11\",\"2020-12\"],\"xaxis\":\"x\",\"y\":[648.386591061827,904.9631914511498,951.4716851478494,900.5604832427535,947.6323891129032,795.0257812500001,929.6658753360208,1029.6963020833334,1010.1306527777783,839.8743159946235,950.0461006944445,627.6800806451606],\"yaxis\":\"y\",\"type\":\"scatter\"}],                        {\"template\":{\"data\":{\"bar\":[{\"error_x\":{\"color\":\"#2a3f5f\"},\"error_y\":{\"color\":\"#2a3f5f\"},\"marker\":{\"line\":{\"color\":\"#E5ECF6\",\"width\":0.5},\"pattern\":{\"fillmode\":\"overlay\",\"size\":10,\"solidity\":0.2}},\"type\":\"bar\"}],\"barpolar\":[{\"marker\":{\"line\":{\"color\":\"#E5ECF6\",\"width\":0.5},\"pattern\":{\"fillmode\":\"overlay\",\"size\":10,\"solidity\":0.2}},\"type\":\"barpolar\"}],\"carpet\":[{\"aaxis\":{\"endlinecolor\":\"#2a3f5f\",\"gridcolor\":\"white\",\"linecolor\":\"white\",\"minorgridcolor\":\"white\",\"startlinecolor\":\"#2a3f5f\"},\"baxis\":{\"endlinecolor\":\"#2a3f5f\",\"gridcolor\":\"white\",\"linecolor\":\"white\",\"minorgridcolor\":\"white\",\"startlinecolor\":\"#2a3f5f\"},\"type\":\"carpet\"}],\"choropleth\":[{\"colorbar\":{\"outlinewidth\":0,\"ticks\":\"\"},\"type\":\"choropleth\"}],\"contour\":[{\"colorbar\":{\"outlinewidth\":0,\"ticks\":\"\"},\"colorscale\":[[0.0,\"#0d0887\"],[0.1111111111111111,\"#46039f\"],[0.2222222222222222,\"#7201a8\"],[0.3333333333333333,\"#9c179e\"],[0.4444444444444444,\"#bd3786\"],[0.5555555555555556,\"#d8576b\"],[0.6666666666666666,\"#ed7953\"],[0.7777777777777778,\"#fb9f3a\"],[0.8888888888888888,\"#fdca26\"],[1.0,\"#f0f921\"]],\"type\":\"contour\"}],\"contourcarpet\":[{\"colorbar\":{\"outlinewidth\":0,\"ticks\":\"\"},\"type\":\"contourcarpet\"}],\"heatmap\":[{\"colorbar\":{\"outlinewidth\":0,\"ticks\":\"\"},\"colorscale\":[[0.0,\"#0d0887\"],[0.1111111111111111,\"#46039f\"],[0.2222222222222222,\"#7201a8\"],[0.3333333333333333,\"#9c179e\"],[0.4444444444444444,\"#bd3786\"],[0.5555555555555556,\"#d8576b\"],[0.6666666666666666,\"#ed7953\"],[0.7777777777777778,\"#fb9f3a\"],[0.8888888888888888,\"#fdca26\"],[1.0,\"#f0f921\"]],\"type\":\"heatmap\"}],\"heatmapgl\":[{\"colorbar\":{\"outlinewidth\":0,\"ticks\":\"\"},\"colorscale\":[[0.0,\"#0d0887\"],[0.1111111111111111,\"#46039f\"],[0.2222222222222222,\"#7201a8\"],[0.3333333333333333,\"#9c179e\"],[0.4444444444444444,\"#bd3786\"],[0.5555555555555556,\"#d8576b\"],[0.6666666666666666,\"#ed7953\"],[0.7777777777777778,\"#fb9f3a\"],[0.8888888888888888,\"#fdca26\"],[1.0,\"#f0f921\"]],\"type\":\"heatmapgl\"}],\"histogram\":[{\"marker\":{\"pattern\":{\"fillmode\":\"overlay\",\"size\":10,\"solidity\":0.2}},\"type\":\"histogram\"}],\"histogram2d\":[{\"colorbar\":{\"outlinewidth\":0,\"ticks\":\"\"},\"colorscale\":[[0.0,\"#0d0887\"],[0.1111111111111111,\"#46039f\"],[0.2222222222222222,\"#7201a8\"],[0.3333333333333333,\"#9c179e\"],[0.4444444444444444,\"#bd3786\"],[0.5555555555555556,\"#d8576b\"],[0.6666666666666666,\"#ed7953\"],[0.7777777777777778,\"#fb9f3a\"],[0.8888888888888888,\"#fdca26\"],[1.0,\"#f0f921\"]],\"type\":\"histogram2d\"}],\"histogram2dcontour\":[{\"colorbar\":{\"outlinewidth\":0,\"ticks\":\"\"},\"colorscale\":[[0.0,\"#0d0887\"],[0.1111111111111111,\"#46039f\"],[0.2222222222222222,\"#7201a8\"],[0.3333333333333333,\"#9c179e\"],[0.4444444444444444,\"#bd3786\"],[0.5555555555555556,\"#d8576b\"],[0.6666666666666666,\"#ed7953\"],[0.7777777777777778,\"#fb9f3a\"],[0.8888888888888888,\"#fdca26\"],[1.0,\"#f0f921\"]],\"type\":\"histogram2dcontour\"}],\"mesh3d\":[{\"colorbar\":{\"outlinewidth\":0,\"ticks\":\"\"},\"type\":\"mesh3d\"}],\"parcoords\":[{\"line\":{\"colorbar\":{\"outlinewidth\":0,\"ticks\":\"\"}},\"type\":\"parcoords\"}],\"pie\":[{\"automargin\":true,\"type\":\"pie\"}],\"scatter\":[{\"marker\":{\"colorbar\":{\"outlinewidth\":0,\"ticks\":\"\"}},\"type\":\"scatter\"}],\"scatter3d\":[{\"line\":{\"colorbar\":{\"outlinewidth\":0,\"ticks\":\"\"}},\"marker\":{\"colorbar\":{\"outlinewidth\":0,\"ticks\":\"\"}},\"type\":\"scatter3d\"}],\"scattercarpet\":[{\"marker\":{\"colorbar\":{\"outlinewidth\":0,\"ticks\":\"\"}},\"type\":\"scattercarpet\"}],\"scattergeo\":[{\"marker\":{\"colorbar\":{\"outlinewidth\":0,\"ticks\":\"\"}},\"type\":\"scattergeo\"}],\"scattergl\":[{\"marker\":{\"colorbar\":{\"outlinewidth\":0,\"ticks\":\"\"}},\"type\":\"scattergl\"}],\"scattermapbox\":[{\"marker\":{\"colorbar\":{\"outlinewidth\":0,\"ticks\":\"\"}},\"type\":\"scattermapbox\"}],\"scatterpolar\":[{\"marker\":{\"colorbar\":{\"outlinewidth\":0,\"ticks\":\"\"}},\"type\":\"scatterpolar\"}],\"scatterpolargl\":[{\"marker\":{\"colorbar\":{\"outlinewidth\":0,\"ticks\":\"\"}},\"type\":\"scatterpolargl\"}],\"scatterternary\":[{\"marker\":{\"colorbar\":{\"outlinewidth\":0,\"ticks\":\"\"}},\"type\":\"scatterternary\"}],\"surface\":[{\"colorbar\":{\"outlinewidth\":0,\"ticks\":\"\"},\"colorscale\":[[0.0,\"#0d0887\"],[0.1111111111111111,\"#46039f\"],[0.2222222222222222,\"#7201a8\"],[0.3333333333333333,\"#9c179e\"],[0.4444444444444444,\"#bd3786\"],[0.5555555555555556,\"#d8576b\"],[0.6666666666666666,\"#ed7953\"],[0.7777777777777778,\"#fb9f3a\"],[0.8888888888888888,\"#fdca26\"],[1.0,\"#f0f921\"]],\"type\":\"surface\"}],\"table\":[{\"cells\":{\"fill\":{\"color\":\"#EBF0F8\"},\"line\":{\"color\":\"white\"}},\"header\":{\"fill\":{\"color\":\"#C8D4E3\"},\"line\":{\"color\":\"white\"}},\"type\":\"table\"}]},\"layout\":{\"annotationdefaults\":{\"arrowcolor\":\"#2a3f5f\",\"arrowhead\":0,\"arrowwidth\":1},\"autotypenumbers\":\"strict\",\"coloraxis\":{\"colorbar\":{\"outlinewidth\":0,\"ticks\":\"\"}},\"colorscale\":{\"diverging\":[[0,\"#8e0152\"],[0.1,\"#c51b7d\"],[0.2,\"#de77ae\"],[0.3,\"#f1b6da\"],[0.4,\"#fde0ef\"],[0.5,\"#f7f7f7\"],[0.6,\"#e6f5d0\"],[0.7,\"#b8e186\"],[0.8,\"#7fbc41\"],[0.9,\"#4d9221\"],[1,\"#276419\"]],\"sequential\":[[0.0,\"#0d0887\"],[0.1111111111111111,\"#46039f\"],[0.2222222222222222,\"#7201a8\"],[0.3333333333333333,\"#9c179e\"],[0.4444444444444444,\"#bd3786\"],[0.5555555555555556,\"#d8576b\"],[0.6666666666666666,\"#ed7953\"],[0.7777777777777778,\"#fb9f3a\"],[0.8888888888888888,\"#fdca26\"],[1.0,\"#f0f921\"]],\"sequentialminus\":[[0.0,\"#0d0887\"],[0.1111111111111111,\"#46039f\"],[0.2222222222222222,\"#7201a8\"],[0.3333333333333333,\"#9c179e\"],[0.4444444444444444,\"#bd3786\"],[0.5555555555555556,\"#d8576b\"],[0.6666666666666666,\"#ed7953\"],[0.7777777777777778,\"#fb9f3a\"],[0.8888888888888888,\"#fdca26\"],[1.0,\"#f0f921\"]]},\"colorway\":[\"#636efa\",\"#EF553B\",\"#00cc96\",\"#ab63fa\",\"#FFA15A\",\"#19d3f3\",\"#FF6692\",\"#B6E880\",\"#FF97FF\",\"#FECB52\"],\"font\":{\"color\":\"#2a3f5f\"},\"geo\":{\"bgcolor\":\"white\",\"lakecolor\":\"white\",\"landcolor\":\"#E5ECF6\",\"showlakes\":true,\"showland\":true,\"subunitcolor\":\"white\"},\"hoverlabel\":{\"align\":\"left\"},\"hovermode\":\"closest\",\"mapbox\":{\"style\":\"light\"},\"paper_bgcolor\":\"white\",\"plot_bgcolor\":\"#E5ECF6\",\"polar\":{\"angularaxis\":{\"gridcolor\":\"white\",\"linecolor\":\"white\",\"ticks\":\"\"},\"bgcolor\":\"#E5ECF6\",\"radialaxis\":{\"gridcolor\":\"white\",\"linecolor\":\"white\",\"ticks\":\"\"}},\"scene\":{\"xaxis\":{\"backgroundcolor\":\"#E5ECF6\",\"gridcolor\":\"white\",\"gridwidth\":2,\"linecolor\":\"white\",\"showbackground\":true,\"ticks\":\"\",\"zerolinecolor\":\"white\"},\"yaxis\":{\"backgroundcolor\":\"#E5ECF6\",\"gridcolor\":\"white\",\"gridwidth\":2,\"linecolor\":\"white\",\"showbackground\":true,\"ticks\":\"\",\"zerolinecolor\":\"white\"},\"zaxis\":{\"backgroundcolor\":\"#E5ECF6\",\"gridcolor\":\"white\",\"gridwidth\":2,\"linecolor\":\"white\",\"showbackground\":true,\"ticks\":\"\",\"zerolinecolor\":\"white\"}},\"shapedefaults\":{\"line\":{\"color\":\"#2a3f5f\"}},\"ternary\":{\"aaxis\":{\"gridcolor\":\"white\",\"linecolor\":\"white\",\"ticks\":\"\"},\"baxis\":{\"gridcolor\":\"white\",\"linecolor\":\"white\",\"ticks\":\"\"},\"bgcolor\":\"#E5ECF6\",\"caxis\":{\"gridcolor\":\"white\",\"linecolor\":\"white\",\"ticks\":\"\"}},\"title\":{\"x\":0.05},\"xaxis\":{\"automargin\":true,\"gridcolor\":\"white\",\"linecolor\":\"white\",\"ticks\":\"\",\"title\":{\"standoff\":15},\"zerolinecolor\":\"white\",\"zerolinewidth\":2},\"yaxis\":{\"automargin\":true,\"gridcolor\":\"white\",\"linecolor\":\"white\",\"ticks\":\"\",\"title\":{\"standoff\":15},\"zerolinecolor\":\"white\",\"zerolinewidth\":2}}},\"xaxis\":{\"anchor\":\"y\",\"domain\":[0.0,1.0],\"title\":{\"text\":\"Mes\"}},\"yaxis\":{\"anchor\":\"x\",\"domain\":[0.0,1.0],\"title\":{\"text\":\"MXN/MWh\"}},\"legend\":{\"title\":{\"text\":\"GCR\"},\"tracegroupgap\":0},\"title\":{\"text\":\"Promedio mensual de PML por GCR en 2020\"}},                        {\"responsive\": true}                    ).then(function(){\n",
              "                            \n",
              "var gd = document.getElementById('f53c568e-62aa-44da-bd31-ff95c64ad795');\n",
              "var x = new MutationObserver(function (mutations, observer) {{\n",
              "        var display = window.getComputedStyle(gd).display;\n",
              "        if (!display || display === 'none') {{\n",
              "            console.log([gd, 'removed!']);\n",
              "            Plotly.purge(gd);\n",
              "            observer.disconnect();\n",
              "        }}\n",
              "}});\n",
              "\n",
              "// Listen for the removal of the full notebook cells\n",
              "var notebookContainer = gd.closest('#notebook-container');\n",
              "if (notebookContainer) {{\n",
              "    x.observe(notebookContainer, {childList: true});\n",
              "}}\n",
              "\n",
              "// Listen for the clearing of the current output cell\n",
              "var outputEl = gd.closest('.output');\n",
              "if (outputEl) {{\n",
              "    x.observe(outputEl, {childList: true});\n",
              "}}\n",
              "\n",
              "                        })                };                            </script>        </div>\n",
              "</body>\n",
              "</html>"
            ]
          },
          "metadata": {}
        }
      ]
    },
    {
      "cell_type": "code",
      "source": [
        "import seaborn as sns\n",
        "import matplotlib.pyplot as plt"
      ],
      "metadata": {
        "id": "gah3DVnbH19N"
      },
      "execution_count": null,
      "outputs": []
    },
    {
      "cell_type": "code",
      "source": [
        "sns.relplot(x='Mes',y='PML',data=gcr_mes_pml_prom,kind='line', hue='GCR',markers=True,height=8)\n",
        "plt.show()"
      ],
      "metadata": {
        "colab": {
          "base_uri": "https://localhost:8080/",
          "height": 585
        },
        "id": "0FKA2ZF7H5I0",
        "outputId": "57e3cfe2-7bdd-4827-ca99-944dc120f9c3"
      },
      "execution_count": null,
      "outputs": [
        {
          "output_type": "display_data",
          "data": {
            "image/png": "[encoded data removed]",
            "text/plain": [
              "<Figure size 675.5x576 with 1 Axes>"
            ]
          },
          "metadata": {
            "needs_background": "light"
          }
        }
      ]
    },
    {
      "cell_type": "code",
      "source": [
        "gcr_pivot = gcr_mes_pml_prom.pivot(index='GCR',columns='Mes',values='PML')\n",
        "gcr_pivot"
      ],
      "metadata": {
        "colab": {
          "base_uri": "https://localhost:8080/",
          "height": 300
        },
        "id": "AtIDGNfPW2nu",
        "outputId": "8b9c6002-91f3-45fb-e74a-931e1e1059aa"
      },
      "execution_count": null,
      "outputs": [
        {
          "output_type": "execute_result",
          "data": {
            "text/html": [
              "\n",
              "  <div id=\"df-11b9b2c6-c328-4829-9c4f-86b285e92358\">\n",
              "    <div class=\"colab-df-container\">\n",
              "      <div>\n",
              "<style scoped>\n",
              "    .dataframe tbody tr th:only-of-type {\n",
              "        vertical-align: middle;\n",
              "    }\n",
              "\n",
              "    .dataframe tbody tr th {\n",
              "        vertical-align: top;\n",
              "    }\n",
              "\n",
              "    .dataframe thead th {\n",
              "        text-align: right;\n",
              "    }\n",
              "</style>\n",
              "<table border=\"1\" class=\"dataframe\">\n",
              "  <thead>\n",
              "    <tr style=\"text-align: right;\">\n",
              "      <th>Mes</th>\n",
              "      <th>2020-01</th>\n",
              "      <th>2020-02</th>\n",
              "      <th>2020-03</th>\n",
              "      <th>2020-04</th>\n",
              "      <th>2020-05</th>\n",
              "      <th>2020-06</th>\n",
              "      <th>2020-07</th>\n",
              "      <th>2020-08</th>\n",
              "      <th>2020-09</th>\n",
              "      <th>2020-10</th>\n",
              "      <th>2020-11</th>\n",
              "      <th>2020-12</th>\n",
              "    </tr>\n",
              "    <tr>\n",
              "      <th>GCR</th>\n",
              "      <th></th>\n",
              "      <th></th>\n",
              "      <th></th>\n",
              "      <th></th>\n",
              "      <th></th>\n",
              "      <th></th>\n",
              "      <th></th>\n",
              "      <th></th>\n",
              "      <th></th>\n",
              "      <th></th>\n",
              "      <th></th>\n",
              "      <th></th>\n",
              "    </tr>\n",
              "  </thead>\n",
              "  <tbody>\n",
              "    <tr>\n",
              "      <th>CENTRAL</th>\n",
              "      <td>522.566924</td>\n",
              "      <td>584.024133</td>\n",
              "      <td>631.455950</td>\n",
              "      <td>572.229137</td>\n",
              "      <td>595.880414</td>\n",
              "      <td>642.252917</td>\n",
              "      <td>624.077478</td>\n",
              "      <td>757.397074</td>\n",
              "      <td>673.111833</td>\n",
              "      <td>737.680894</td>\n",
              "      <td>900.787488</td>\n",
              "      <td>616.194693</td>\n",
              "    </tr>\n",
              "    <tr>\n",
              "      <th>NORESTE</th>\n",
              "      <td>379.815486</td>\n",
              "      <td>353.545686</td>\n",
              "      <td>411.857106</td>\n",
              "      <td>409.732757</td>\n",
              "      <td>455.238346</td>\n",
              "      <td>471.862124</td>\n",
              "      <td>530.110284</td>\n",
              "      <td>637.738426</td>\n",
              "      <td>514.205719</td>\n",
              "      <td>561.807651</td>\n",
              "      <td>670.689804</td>\n",
              "      <td>481.472236</td>\n",
              "    </tr>\n",
              "    <tr>\n",
              "      <th>NOROESTE</th>\n",
              "      <td>247.135316</td>\n",
              "      <td>202.556352</td>\n",
              "      <td>206.912835</td>\n",
              "      <td>204.890194</td>\n",
              "      <td>460.437289</td>\n",
              "      <td>500.857633</td>\n",
              "      <td>520.064683</td>\n",
              "      <td>638.680551</td>\n",
              "      <td>539.981078</td>\n",
              "      <td>451.223665</td>\n",
              "      <td>608.470944</td>\n",
              "      <td>438.486086</td>\n",
              "    </tr>\n",
              "    <tr>\n",
              "      <th>NORTE</th>\n",
              "      <td>315.564259</td>\n",
              "      <td>265.066275</td>\n",
              "      <td>307.339560</td>\n",
              "      <td>311.449801</td>\n",
              "      <td>469.248627</td>\n",
              "      <td>497.807484</td>\n",
              "      <td>531.608243</td>\n",
              "      <td>640.017740</td>\n",
              "      <td>487.820457</td>\n",
              "      <td>448.168412</td>\n",
              "      <td>606.604554</td>\n",
              "      <td>469.019024</td>\n",
              "    </tr>\n",
              "    <tr>\n",
              "      <th>OCCIDENTAL</th>\n",
              "      <td>492.002361</td>\n",
              "      <td>545.185046</td>\n",
              "      <td>580.970206</td>\n",
              "      <td>502.935015</td>\n",
              "      <td>544.076535</td>\n",
              "      <td>583.350650</td>\n",
              "      <td>590.375556</td>\n",
              "      <td>699.367096</td>\n",
              "      <td>600.286922</td>\n",
              "      <td>690.521717</td>\n",
              "      <td>870.885260</td>\n",
              "      <td>598.564471</td>\n",
              "    </tr>\n",
              "    <tr>\n",
              "      <th>ORIENTAL</th>\n",
              "      <td>542.040867</td>\n",
              "      <td>637.627829</td>\n",
              "      <td>732.981002</td>\n",
              "      <td>650.487034</td>\n",
              "      <td>648.946958</td>\n",
              "      <td>682.057924</td>\n",
              "      <td>665.771885</td>\n",
              "      <td>814.230034</td>\n",
              "      <td>759.605820</td>\n",
              "      <td>786.354130</td>\n",
              "      <td>926.907799</td>\n",
              "      <td>624.374556</td>\n",
              "    </tr>\n",
              "    <tr>\n",
              "      <th>PENINSULAR</th>\n",
              "      <td>648.386591</td>\n",
              "      <td>904.963191</td>\n",
              "      <td>951.471685</td>\n",
              "      <td>900.560483</td>\n",
              "      <td>947.632389</td>\n",
              "      <td>795.025781</td>\n",
              "      <td>929.665875</td>\n",
              "      <td>1029.696302</td>\n",
              "      <td>1010.130653</td>\n",
              "      <td>839.874316</td>\n",
              "      <td>950.046101</td>\n",
              "      <td>627.680081</td>\n",
              "    </tr>\n",
              "  </tbody>\n",
              "</table>\n",
              "</div>\n",
              "      <button class=\"colab-df-convert\" onclick=\"convertToInteractive('df-11b9b2c6-c328-4829-9c4f-86b285e92358')\"\n",
              "              title=\"Convert this dataframe to an interactive table.\"\n",
              "              style=\"display:none;\">\n",
              "        \n",
              "  <svg xmlns=\"http://www.w3.org/2000/svg\" height=\"24px\"viewBox=\"0 0 24 24\"\n",
              "       width=\"24px\">\n",
              "    <path d=\"M0 0h24v24H0V0z\" fill=\"none\"/>\n",
              "    <path d=\"M18.56 5.44l.94 2.06.94-2.06 2.06-.94-2.06-.94-.94-2.06-.94 2.06-2.06.94zm-11 1L8.5 8.5l.94-2.06 2.06-.94-2.06-.94L8.5 2.5l-.94 2.06-2.06.94zm10 10l.94 2.06.94-2.06 2.06-.94-2.06-.94-.94-2.06-.94 2.06-2.06.94z\"/><path d=\"M17.41 7.96l-1.37-1.37c-.4-.4-.92-.59-1.43-.59-.52 0-1.04.2-1.43.59L10.3 9.45l-7.72 7.72c-.78.78-.78 2.05 0 2.83L4 21.41c.39.39.9.59 1.41.59.51 0 1.02-.2 1.41-.59l7.78-7.78 2.81-2.81c.8-.78.8-2.07 0-2.86zM5.41 20L4 18.59l7.72-7.72 1.47 1.35L5.41 20z\"/>\n",
              "  </svg>\n",
              "      </button>\n",
              "      \n",
              "  <style>\n",
              "    .colab-df-container {\n",
              "      display:flex;\n",
              "      flex-wrap:wrap;\n",
              "      gap: 12px;\n",
              "    }\n",
              "\n",
              "    .colab-df-convert {\n",
              "      background-color: #E8F0FE;\n",
              "      border: none;\n",
              "      border-radius: 50%;\n",
              "      cursor: pointer;\n",
              "      display: none;\n",
              "      fill: #1967D2;\n",
              "      height: 32px;\n",
              "      padding: 0 0 0 0;\n",
              "      width: 32px;\n",
              "    }\n",
              "\n",
              "    .colab-df-convert:hover {\n",
              "      background-color: #E2EBFA;\n",
              "      box-shadow: 0px 1px 2px rgba(60, 64, 67, 0.3), 0px 1px 3px 1px rgba(60, 64, 67, 0.15);\n",
              "      fill: #174EA6;\n",
              "    }\n",
              "\n",
              "    [theme=dark] .colab-df-convert {\n",
              "      background-color: #3B4455;\n",
              "      fill: #D2E3FC;\n",
              "    }\n",
              "\n",
              "    [theme=dark] .colab-df-convert:hover {\n",
              "      background-color: #434B5C;\n",
              "      box-shadow: 0px 1px 3px 1px rgba(0, 0, 0, 0.15);\n",
              "      filter: drop-shadow(0px 1px 2px rgba(0, 0, 0, 0.3));\n",
              "      fill: #FFFFFF;\n",
              "    }\n",
              "  </style>\n",
              "\n",
              "      <script>\n",
              "        const buttonEl =\n",
              "          document.querySelector('#df-11b9b2c6-c328-4829-9c4f-86b285e92358 button.colab-df-convert');\n",
              "        buttonEl.style.display =\n",
              "          google.colab.kernel.accessAllowed ? 'block' : 'none';\n",
              "\n",
              "        async function convertToInteractive(key) {\n",
              "          const element = document.querySelector('#df-11b9b2c6-c328-4829-9c4f-86b285e92358');\n",
              "          const dataTable =\n",
              "            await google.colab.kernel.invokeFunction('convertToInteractive',\n",
              "                                                     [key], {});\n",
              "          if (!dataTable) return;\n",
              "\n",
              "          const docLinkHtml = 'Like what you see? Visit the ' +\n",
              "            '<a target=\"_blank\" href=https://colab.research.google.com/notebooks/data_table.ipynb>data table notebook</a>'\n",
              "            + ' to learn more about interactive tables.';\n",
              "          element.innerHTML = '';\n",
              "          dataTable['output_type'] = 'display_data';\n",
              "          await google.colab.output.renderOutput(dataTable, element);\n",
              "          const docLink = document.createElement('div');\n",
              "          docLink.innerHTML = docLinkHtml;\n",
              "          element.appendChild(docLink);\n",
              "        }\n",
              "      </script>\n",
              "    </div>\n",
              "  </div>\n",
              "  "
            ],
            "text/plain": [
              "Mes            2020-01     2020-02  ...     2020-11     2020-12\n",
              "GCR                                 ...                        \n",
              "CENTRAL     522.566924  584.024133  ...  900.787488  616.194693\n",
              "NORESTE     379.815486  353.545686  ...  670.689804  481.472236\n",
              "NOROESTE    247.135316  202.556352  ...  608.470944  438.486086\n",
              "NORTE       315.564259  265.066275  ...  606.604554  469.019024\n",
              "OCCIDENTAL  492.002361  545.185046  ...  870.885260  598.564471\n",
              "ORIENTAL    542.040867  637.627829  ...  926.907799  624.374556\n",
              "PENINSULAR  648.386591  904.963191  ...  950.046101  627.680081\n",
              "\n",
              "[7 rows x 12 columns]"
            ]
          },
          "metadata": {},
          "execution_count": 16
        }
      ]
    },
    {
      "cell_type": "code",
      "source": [
        "sns.heatmap(gcr_pivot,cmap='Blues')"
      ],
      "metadata": {
        "colab": {
          "base_uri": "https://localhost:8080/",
          "height": 329
        },
        "id": "A62gCEbyZtlF",
        "outputId": "95b077c5-85e0-4a88-beaf-f039cc020a93"
      },
      "execution_count": null,
      "outputs": [
        {
          "output_type": "execute_result",
          "data": {
            "text/plain": [
              "<matplotlib.axes._subplots.AxesSubplot at 0x7f26b6131b10>"
            ]
          },
          "metadata": {},
          "execution_count": 20
        },
        {
          "output_type": "display_data",
          "data": {
            "image/png": "[encoded data removed]",
            "text/plain": [
              "<Figure size 432x288 with 2 Axes>"
            ]
          },
          "metadata": {
            "needs_background": "light"
          }
        }
      ]
    },
    {
      "cell_type": "code",
      "source": [
        "\n",
        "gcr_pivot = gcr_mes_pml_prom.pivot(index='Mes',columns='GCR',values='PML')\n",
        "gcr_pivot.plot.line()"
      ],
      "metadata": {
        "colab": {
          "base_uri": "https://localhost:8080/",
          "height": 296
        },
        "id": "OMN1JCvvaPUc",
        "outputId": "b1179083-5fcb-4aae-a1ab-7da1c64ec65e"
      },
      "execution_count": null,
      "outputs": [
        {
          "output_type": "execute_result",
          "data": {
            "text/plain": [
              "<matplotlib.axes._subplots.AxesSubplot at 0x7f26b6261fd0>"
            ]
          },
          "metadata": {},
          "execution_count": 22
        },
        {
          "output_type": "display_data",
          "data": {
            "image/png": "[encoded data removed]",
            "text/plain": [
              "<Figure size 432x288 with 1 Axes>"
            ]
          },
          "metadata": {
            "needs_background": "light"
          }
        }
      ]
    },
    {
      "cell_type": "markdown",
      "source": [
        "# Regresión Lineal"
      ],
      "metadata": {
        "id": "C7rqWBd9a-w5"
      }
    },
    {
      "cell_type": "markdown",
      "source": [
        "Una regresión lineal busca hallar aquella recta que mejor se ajuste a una serie de puntos (x,y). Es decir, buscamos aquella recta $ y = mx + b$ con coeficientes $m$ y $b$ que mejor se ajuste a nuestros datos. Realizaremos un analisis sobre la relación entre el PML y la congestión. Obtendremos el promedio anual del PML por cada zona de carga. "
      ],
      "metadata": {
        "id": "OyTCi2tIbE0m"
      }
    },
    {
      "cell_type": "code",
      "source": [
        "print(pml.head(10))"
      ],
      "metadata": {
        "colab": {
          "base_uri": "https://localhost:8080/"
        },
        "id": "xghwNRnAcEvm",
        "outputId": "5512fade-0aec-4173-f622-a5f9eab4eeba"
      },
      "execution_count": null,
      "outputs": [
        {
          "output_type": "stream",
          "name": "stdout",
          "text": [
            "       Fecha            Zona         PML\n",
            "0 2020-01-01        ACAPULCO  436.570833\n",
            "1 2020-01-01  AGUASCALIENTES  314.476667\n",
            "2 2020-01-01      APATZINGAN  341.145000\n",
            "3 2020-01-01         CABORCA  203.472917\n",
            "4 2020-01-01         CAMARGO  273.548750\n",
            "5 2020-01-01        CAMPECHE  502.061667\n",
            "6 2020-01-01          CANCUN  506.288750\n",
            "7 2020-01-01          CARMEN  509.951667\n",
            "8 2020-01-01   CASAS GRANDES  244.626250\n",
            "9 2020-01-01          CELAYA  315.746667\n"
          ]
        }
      ]
    },
    {
      "cell_type": "code",
      "source": [
        "# Promedio anual del PML de cada zona\n",
        "PML_zone = pml.groupby(by='Zona')['PML'].mean().reset_index()\n",
        "PML_zone"
      ],
      "metadata": {
        "colab": {
          "base_uri": "https://localhost:8080/",
          "height": 423
        },
        "id": "RSVwjgi-bR73",
        "outputId": "edd53072-6160-4967-c3a7-dc0c4440c6f4"
      },
      "execution_count": null,
      "outputs": [
        {
          "output_type": "execute_result",
          "data": {
            "text/html": [
              "\n",
              "  <div id=\"df-ba9fe1d4-2aa7-4bab-b4ed-936f7bc5d576\">\n",
              "    <div class=\"colab-df-container\">\n",
              "      <div>\n",
              "<style scoped>\n",
              "    .dataframe tbody tr th:only-of-type {\n",
              "        vertical-align: middle;\n",
              "    }\n",
              "\n",
              "    .dataframe tbody tr th {\n",
              "        vertical-align: top;\n",
              "    }\n",
              "\n",
              "    .dataframe thead th {\n",
              "        text-align: right;\n",
              "    }\n",
              "</style>\n",
              "<table border=\"1\" class=\"dataframe\">\n",
              "  <thead>\n",
              "    <tr style=\"text-align: right;\">\n",
              "      <th></th>\n",
              "      <th>Zona</th>\n",
              "      <th>PML</th>\n",
              "    </tr>\n",
              "  </thead>\n",
              "  <tbody>\n",
              "    <tr>\n",
              "      <th>0</th>\n",
              "      <td>ACAPULCO</td>\n",
              "      <td>703.001416</td>\n",
              "    </tr>\n",
              "    <tr>\n",
              "      <th>1</th>\n",
              "      <td>AGUASCALIENTES</td>\n",
              "      <td>592.532645</td>\n",
              "    </tr>\n",
              "    <tr>\n",
              "      <th>2</th>\n",
              "      <td>APATZINGAN</td>\n",
              "      <td>646.356422</td>\n",
              "    </tr>\n",
              "    <tr>\n",
              "      <th>3</th>\n",
              "      <td>CABORCA</td>\n",
              "      <td>367.318539</td>\n",
              "    </tr>\n",
              "    <tr>\n",
              "      <th>4</th>\n",
              "      <td>CAMARGO</td>\n",
              "      <td>507.655175</td>\n",
              "    </tr>\n",
              "    <tr>\n",
              "      <th>...</th>\n",
              "      <td>...</td>\n",
              "      <td>...</td>\n",
              "    </tr>\n",
              "    <tr>\n",
              "      <th>96</th>\n",
              "      <td>ZACAPU</td>\n",
              "      <td>620.227473</td>\n",
              "    </tr>\n",
              "    <tr>\n",
              "      <th>97</th>\n",
              "      <td>ZACATECAS</td>\n",
              "      <td>599.569388</td>\n",
              "    </tr>\n",
              "    <tr>\n",
              "      <th>98</th>\n",
              "      <td>ZAMORA</td>\n",
              "      <td>621.130785</td>\n",
              "    </tr>\n",
              "    <tr>\n",
              "      <th>99</th>\n",
              "      <td>ZAPOTLAN</td>\n",
              "      <td>609.604478</td>\n",
              "    </tr>\n",
              "    <tr>\n",
              "      <th>100</th>\n",
              "      <td>ZIHUATANEJO</td>\n",
              "      <td>665.805393</td>\n",
              "    </tr>\n",
              "  </tbody>\n",
              "</table>\n",
              "<p>101 rows × 2 columns</p>\n",
              "</div>\n",
              "      <button class=\"colab-df-convert\" onclick=\"convertToInteractive('df-ba9fe1d4-2aa7-4bab-b4ed-936f7bc5d576')\"\n",
              "              title=\"Convert this dataframe to an interactive table.\"\n",
              "              style=\"display:none;\">\n",
              "        \n",
              "  <svg xmlns=\"http://www.w3.org/2000/svg\" height=\"24px\"viewBox=\"0 0 24 24\"\n",
              "       width=\"24px\">\n",
              "    <path d=\"M0 0h24v24H0V0z\" fill=\"none\"/>\n",
              "    <path d=\"M18.56 5.44l.94 2.06.94-2.06 2.06-.94-2.06-.94-.94-2.06-.94 2.06-2.06.94zm-11 1L8.5 8.5l.94-2.06 2.06-.94-2.06-.94L8.5 2.5l-.94 2.06-2.06.94zm10 10l.94 2.06.94-2.06 2.06-.94-2.06-.94-.94-2.06-.94 2.06-2.06.94z\"/><path d=\"M17.41 7.96l-1.37-1.37c-.4-.4-.92-.59-1.43-.59-.52 0-1.04.2-1.43.59L10.3 9.45l-7.72 7.72c-.78.78-.78 2.05 0 2.83L4 21.41c.39.39.9.59 1.41.59.51 0 1.02-.2 1.41-.59l7.78-7.78 2.81-2.81c.8-.78.8-2.07 0-2.86zM5.41 20L4 18.59l7.72-7.72 1.47 1.35L5.41 20z\"/>\n",
              "  </svg>\n",
              "      </button>\n",
              "      \n",
              "  <style>\n",
              "    .colab-df-container {\n",
              "      display:flex;\n",
              "      flex-wrap:wrap;\n",
              "      gap: 12px;\n",
              "    }\n",
              "\n",
              "    .colab-df-convert {\n",
              "      background-color: #E8F0FE;\n",
              "      border: none;\n",
              "      border-radius: 50%;\n",
              "      cursor: pointer;\n",
              "      display: none;\n",
              "      fill: #1967D2;\n",
              "      height: 32px;\n",
              "      padding: 0 0 0 0;\n",
              "      width: 32px;\n",
              "    }\n",
              "\n",
              "    .colab-df-convert:hover {\n",
              "      background-color: #E2EBFA;\n",
              "      box-shadow: 0px 1px 2px rgba(60, 64, 67, 0.3), 0px 1px 3px 1px rgba(60, 64, 67, 0.15);\n",
              "      fill: #174EA6;\n",
              "    }\n",
              "\n",
              "    [theme=dark] .colab-df-convert {\n",
              "      background-color: #3B4455;\n",
              "      fill: #D2E3FC;\n",
              "    }\n",
              "\n",
              "    [theme=dark] .colab-df-convert:hover {\n",
              "      background-color: #434B5C;\n",
              "      box-shadow: 0px 1px 3px 1px rgba(0, 0, 0, 0.15);\n",
              "      filter: drop-shadow(0px 1px 2px rgba(0, 0, 0, 0.3));\n",
              "      fill: #FFFFFF;\n",
              "    }\n",
              "  </style>\n",
              "\n",
              "      <script>\n",
              "        const buttonEl =\n",
              "          document.querySelector('#df-ba9fe1d4-2aa7-4bab-b4ed-936f7bc5d576 button.colab-df-convert');\n",
              "        buttonEl.style.display =\n",
              "          google.colab.kernel.accessAllowed ? 'block' : 'none';\n",
              "\n",
              "        async function convertToInteractive(key) {\n",
              "          const element = document.querySelector('#df-ba9fe1d4-2aa7-4bab-b4ed-936f7bc5d576');\n",
              "          const dataTable =\n",
              "            await google.colab.kernel.invokeFunction('convertToInteractive',\n",
              "                                                     [key], {});\n",
              "          if (!dataTable) return;\n",
              "\n",
              "          const docLinkHtml = 'Like what you see? Visit the ' +\n",
              "            '<a target=\"_blank\" href=https://colab.research.google.com/notebooks/data_table.ipynb>data table notebook</a>'\n",
              "            + ' to learn more about interactive tables.';\n",
              "          element.innerHTML = '';\n",
              "          dataTable['output_type'] = 'display_data';\n",
              "          await google.colab.output.renderOutput(dataTable, element);\n",
              "          const docLink = document.createElement('div');\n",
              "          docLink.innerHTML = docLinkHtml;\n",
              "          element.appendChild(docLink);\n",
              "        }\n",
              "      </script>\n",
              "    </div>\n",
              "  </div>\n",
              "  "
            ],
            "text/plain": [
              "               Zona         PML\n",
              "0          ACAPULCO  703.001416\n",
              "1    AGUASCALIENTES  592.532645\n",
              "2        APATZINGAN  646.356422\n",
              "3           CABORCA  367.318539\n",
              "4           CAMARGO  507.655175\n",
              "..              ...         ...\n",
              "96           ZACAPU  620.227473\n",
              "97        ZACATECAS  599.569388\n",
              "98           ZAMORA  621.130785\n",
              "99         ZAPOTLAN  609.604478\n",
              "100     ZIHUATANEJO  665.805393\n",
              "\n",
              "[101 rows x 2 columns]"
            ]
          },
          "metadata": {},
          "execution_count": 25
        }
      ]
    },
    {
      "cell_type": "code",
      "source": [
        "# Promedio anual de la congestion de cada zona\n",
        "cong_zone = cong.groupby('Zona')['comp_cong'].mean().reset_index()"
      ],
      "metadata": {
        "id": "Wlja8F4RcsFc"
      },
      "execution_count": null,
      "outputs": []
    },
    {
      "cell_type": "code",
      "source": [
        "cong_zone.sort_values(by='comp_cong')"
      ],
      "metadata": {
        "colab": {
          "base_uri": "https://localhost:8080/",
          "height": 423
        },
        "id": "P2ehBNlFdLoa",
        "outputId": "7d1f9e2d-e26c-4ce3-86e4-b1516c344fdf"
      },
      "execution_count": null,
      "outputs": [
        {
          "output_type": "execute_result",
          "data": {
            "text/html": [
              "\n",
              "  <div id=\"df-f7ee3d0c-3dc4-49eb-bf98-f436c9ba10a5\">\n",
              "    <div class=\"colab-df-container\">\n",
              "      <div>\n",
              "<style scoped>\n",
              "    .dataframe tbody tr th:only-of-type {\n",
              "        vertical-align: middle;\n",
              "    }\n",
              "\n",
              "    .dataframe tbody tr th {\n",
              "        vertical-align: top;\n",
              "    }\n",
              "\n",
              "    .dataframe thead th {\n",
              "        text-align: right;\n",
              "    }\n",
              "</style>\n",
              "<table border=\"1\" class=\"dataframe\">\n",
              "  <thead>\n",
              "    <tr style=\"text-align: right;\">\n",
              "      <th></th>\n",
              "      <th>Zona</th>\n",
              "      <th>comp_cong</th>\n",
              "    </tr>\n",
              "  </thead>\n",
              "  <tbody>\n",
              "    <tr>\n",
              "      <th>3</th>\n",
              "      <td>CABORCA</td>\n",
              "      <td>-116.903380</td>\n",
              "    </tr>\n",
              "    <tr>\n",
              "      <th>60</th>\n",
              "      <td>NOGALES</td>\n",
              "      <td>-115.298605</td>\n",
              "    </tr>\n",
              "    <tr>\n",
              "      <th>28</th>\n",
              "      <td>GUAYMAS</td>\n",
              "      <td>-114.915564</td>\n",
              "    </tr>\n",
              "    <tr>\n",
              "      <th>29</th>\n",
              "      <td>HERMOSILLO</td>\n",
              "      <td>-114.748430</td>\n",
              "    </tr>\n",
              "    <tr>\n",
              "      <th>39</th>\n",
              "      <td>JUAREZ</td>\n",
              "      <td>-95.690854</td>\n",
              "    </tr>\n",
              "    <tr>\n",
              "      <th>...</th>\n",
              "      <td>...</td>\n",
              "      <td>...</td>\n",
              "    </tr>\n",
              "    <tr>\n",
              "      <th>7</th>\n",
              "      <td>CARMEN</td>\n",
              "      <td>179.405017</td>\n",
              "    </tr>\n",
              "    <tr>\n",
              "      <th>58</th>\n",
              "      <td>MOTUL TIZIMIN</td>\n",
              "      <td>181.661761</td>\n",
              "    </tr>\n",
              "    <tr>\n",
              "      <th>12</th>\n",
              "      <td>CHETUMAL</td>\n",
              "      <td>184.935570</td>\n",
              "    </tr>\n",
              "    <tr>\n",
              "      <th>6</th>\n",
              "      <td>CANCUN</td>\n",
              "      <td>186.593252</td>\n",
              "    </tr>\n",
              "    <tr>\n",
              "      <th>70</th>\n",
              "      <td>RIVIERA MAYA</td>\n",
              "      <td>271.877273</td>\n",
              "    </tr>\n",
              "  </tbody>\n",
              "</table>\n",
              "<p>101 rows × 2 columns</p>\n",
              "</div>\n",
              "      <button class=\"colab-df-convert\" onclick=\"convertToInteractive('df-f7ee3d0c-3dc4-49eb-bf98-f436c9ba10a5')\"\n",
              "              title=\"Convert this dataframe to an interactive table.\"\n",
              "              style=\"display:none;\">\n",
              "        \n",
              "  <svg xmlns=\"http://www.w3.org/2000/svg\" height=\"24px\"viewBox=\"0 0 24 24\"\n",
              "       width=\"24px\">\n",
              "    <path d=\"M0 0h24v24H0V0z\" fill=\"none\"/>\n",
              "    <path d=\"M18.56 5.44l.94 2.06.94-2.06 2.06-.94-2.06-.94-.94-2.06-.94 2.06-2.06.94zm-11 1L8.5 8.5l.94-2.06 2.06-.94-2.06-.94L8.5 2.5l-.94 2.06-2.06.94zm10 10l.94 2.06.94-2.06 2.06-.94-2.06-.94-.94-2.06-.94 2.06-2.06.94z\"/><path d=\"M17.41 7.96l-1.37-1.37c-.4-.4-.92-.59-1.43-.59-.52 0-1.04.2-1.43.59L10.3 9.45l-7.72 7.72c-.78.78-.78 2.05 0 2.83L4 21.41c.39.39.9.59 1.41.59.51 0 1.02-.2 1.41-.59l7.78-7.78 2.81-2.81c.8-.78.8-2.07 0-2.86zM5.41 20L4 18.59l7.72-7.72 1.47 1.35L5.41 20z\"/>\n",
              "  </svg>\n",
              "      </button>\n",
              "      \n",
              "  <style>\n",
              "    .colab-df-container {\n",
              "      display:flex;\n",
              "      flex-wrap:wrap;\n",
              "      gap: 12px;\n",
              "    }\n",
              "\n",
              "    .colab-df-convert {\n",
              "      background-color: #E8F0FE;\n",
              "      border: none;\n",
              "      border-radius: 50%;\n",
              "      cursor: pointer;\n",
              "      display: none;\n",
              "      fill: #1967D2;\n",
              "      height: 32px;\n",
              "      padding: 0 0 0 0;\n",
              "      width: 32px;\n",
              "    }\n",
              "\n",
              "    .colab-df-convert:hover {\n",
              "      background-color: #E2EBFA;\n",
              "      box-shadow: 0px 1px 2px rgba(60, 64, 67, 0.3), 0px 1px 3px 1px rgba(60, 64, 67, 0.15);\n",
              "      fill: #174EA6;\n",
              "    }\n",
              "\n",
              "    [theme=dark] .colab-df-convert {\n",
              "      background-color: #3B4455;\n",
              "      fill: #D2E3FC;\n",
              "    }\n",
              "\n",
              "    [theme=dark] .colab-df-convert:hover {\n",
              "      background-color: #434B5C;\n",
              "      box-shadow: 0px 1px 3px 1px rgba(0, 0, 0, 0.15);\n",
              "      filter: drop-shadow(0px 1px 2px rgba(0, 0, 0, 0.3));\n",
              "      fill: #FFFFFF;\n",
              "    }\n",
              "  </style>\n",
              "\n",
              "      <script>\n",
              "        const buttonEl =\n",
              "          document.querySelector('#df-f7ee3d0c-3dc4-49eb-bf98-f436c9ba10a5 button.colab-df-convert');\n",
              "        buttonEl.style.display =\n",
              "          google.colab.kernel.accessAllowed ? 'block' : 'none';\n",
              "\n",
              "        async function convertToInteractive(key) {\n",
              "          const element = document.querySelector('#df-f7ee3d0c-3dc4-49eb-bf98-f436c9ba10a5');\n",
              "          const dataTable =\n",
              "            await google.colab.kernel.invokeFunction('convertToInteractive',\n",
              "                                                     [key], {});\n",
              "          if (!dataTable) return;\n",
              "\n",
              "          const docLinkHtml = 'Like what you see? Visit the ' +\n",
              "            '<a target=\"_blank\" href=https://colab.research.google.com/notebooks/data_table.ipynb>data table notebook</a>'\n",
              "            + ' to learn more about interactive tables.';\n",
              "          element.innerHTML = '';\n",
              "          dataTable['output_type'] = 'display_data';\n",
              "          await google.colab.output.renderOutput(dataTable, element);\n",
              "          const docLink = document.createElement('div');\n",
              "          docLink.innerHTML = docLinkHtml;\n",
              "          element.appendChild(docLink);\n",
              "        }\n",
              "      </script>\n",
              "    </div>\n",
              "  </div>\n",
              "  "
            ],
            "text/plain": [
              "             Zona   comp_cong\n",
              "3         CABORCA -116.903380\n",
              "60        NOGALES -115.298605\n",
              "28        GUAYMAS -114.915564\n",
              "29     HERMOSILLO -114.748430\n",
              "39         JUAREZ  -95.690854\n",
              "..            ...         ...\n",
              "7          CARMEN  179.405017\n",
              "58  MOTUL TIZIMIN  181.661761\n",
              "12       CHETUMAL  184.935570\n",
              "6          CANCUN  186.593252\n",
              "70   RIVIERA MAYA  271.877273\n",
              "\n",
              "[101 rows x 2 columns]"
            ]
          },
          "metadata": {},
          "execution_count": 28
        }
      ]
    },
    {
      "cell_type": "markdown",
      "source": [
        "Combinamos lo dos dataframes creados anteriormente."
      ],
      "metadata": {
        "id": "nL7IJulgddCu"
      }
    },
    {
      "cell_type": "code",
      "source": [
        "data_linereg = pd.merge(cong_zone,PML_zone)\n",
        "data_linereg"
      ],
      "metadata": {
        "colab": {
          "base_uri": "https://localhost:8080/",
          "height": 423
        },
        "id": "0i4sVIAZdiUZ",
        "outputId": "d614e6a6-1f8e-402f-a745-e9288168ebb9"
      },
      "execution_count": null,
      "outputs": [
        {
          "output_type": "execute_result",
          "data": {
            "text/html": [
              "\n",
              "  <div id=\"df-304ab8cd-65c9-4be7-b4b1-c78d4700df37\">\n",
              "    <div class=\"colab-df-container\">\n",
              "      <div>\n",
              "<style scoped>\n",
              "    .dataframe tbody tr th:only-of-type {\n",
              "        vertical-align: middle;\n",
              "    }\n",
              "\n",
              "    .dataframe tbody tr th {\n",
              "        vertical-align: top;\n",
              "    }\n",
              "\n",
              "    .dataframe thead th {\n",
              "        text-align: right;\n",
              "    }\n",
              "</style>\n",
              "<table border=\"1\" class=\"dataframe\">\n",
              "  <thead>\n",
              "    <tr style=\"text-align: right;\">\n",
              "      <th></th>\n",
              "      <th>Zona</th>\n",
              "      <th>comp_cong</th>\n",
              "      <th>PML</th>\n",
              "    </tr>\n",
              "  </thead>\n",
              "  <tbody>\n",
              "    <tr>\n",
              "      <th>0</th>\n",
              "      <td>ACAPULCO</td>\n",
              "      <td>53.630762</td>\n",
              "      <td>703.001416</td>\n",
              "    </tr>\n",
              "    <tr>\n",
              "      <th>1</th>\n",
              "      <td>AGUASCALIENTES</td>\n",
              "      <td>7.752893</td>\n",
              "      <td>592.532645</td>\n",
              "    </tr>\n",
              "    <tr>\n",
              "      <th>2</th>\n",
              "      <td>APATZINGAN</td>\n",
              "      <td>16.628782</td>\n",
              "      <td>646.356422</td>\n",
              "    </tr>\n",
              "    <tr>\n",
              "      <th>3</th>\n",
              "      <td>CABORCA</td>\n",
              "      <td>-116.903380</td>\n",
              "      <td>367.318539</td>\n",
              "    </tr>\n",
              "    <tr>\n",
              "      <th>4</th>\n",
              "      <td>CAMARGO</td>\n",
              "      <td>-31.762361</td>\n",
              "      <td>507.655175</td>\n",
              "    </tr>\n",
              "    <tr>\n",
              "      <th>...</th>\n",
              "      <td>...</td>\n",
              "      <td>...</td>\n",
              "      <td>...</td>\n",
              "    </tr>\n",
              "    <tr>\n",
              "      <th>96</th>\n",
              "      <td>ZACAPU</td>\n",
              "      <td>15.328314</td>\n",
              "      <td>620.227473</td>\n",
              "    </tr>\n",
              "    <tr>\n",
              "      <th>97</th>\n",
              "      <td>ZACATECAS</td>\n",
              "      <td>3.532711</td>\n",
              "      <td>599.569388</td>\n",
              "    </tr>\n",
              "    <tr>\n",
              "      <th>98</th>\n",
              "      <td>ZAMORA</td>\n",
              "      <td>15.334239</td>\n",
              "      <td>621.130785</td>\n",
              "    </tr>\n",
              "    <tr>\n",
              "      <th>99</th>\n",
              "      <td>ZAPOTLAN</td>\n",
              "      <td>16.120402</td>\n",
              "      <td>609.604478</td>\n",
              "    </tr>\n",
              "    <tr>\n",
              "      <th>100</th>\n",
              "      <td>ZIHUATANEJO</td>\n",
              "      <td>42.399976</td>\n",
              "      <td>665.805393</td>\n",
              "    </tr>\n",
              "  </tbody>\n",
              "</table>\n",
              "<p>101 rows × 3 columns</p>\n",
              "</div>\n",
              "      <button class=\"colab-df-convert\" onclick=\"convertToInteractive('df-304ab8cd-65c9-4be7-b4b1-c78d4700df37')\"\n",
              "              title=\"Convert this dataframe to an interactive table.\"\n",
              "              style=\"display:none;\">\n",
              "        \n",
              "  <svg xmlns=\"http://www.w3.org/2000/svg\" height=\"24px\"viewBox=\"0 0 24 24\"\n",
              "       width=\"24px\">\n",
              "    <path d=\"M0 0h24v24H0V0z\" fill=\"none\"/>\n",
              "    <path d=\"M18.56 5.44l.94 2.06.94-2.06 2.06-.94-2.06-.94-.94-2.06-.94 2.06-2.06.94zm-11 1L8.5 8.5l.94-2.06 2.06-.94-2.06-.94L8.5 2.5l-.94 2.06-2.06.94zm10 10l.94 2.06.94-2.06 2.06-.94-2.06-.94-.94-2.06-.94 2.06-2.06.94z\"/><path d=\"M17.41 7.96l-1.37-1.37c-.4-.4-.92-.59-1.43-.59-.52 0-1.04.2-1.43.59L10.3 9.45l-7.72 7.72c-.78.78-.78 2.05 0 2.83L4 21.41c.39.39.9.59 1.41.59.51 0 1.02-.2 1.41-.59l7.78-7.78 2.81-2.81c.8-.78.8-2.07 0-2.86zM5.41 20L4 18.59l7.72-7.72 1.47 1.35L5.41 20z\"/>\n",
              "  </svg>\n",
              "      </button>\n",
              "      \n",
              "  <style>\n",
              "    .colab-df-container {\n",
              "      display:flex;\n",
              "      flex-wrap:wrap;\n",
              "      gap: 12px;\n",
              "    }\n",
              "\n",
              "    .colab-df-convert {\n",
              "      background-color: #E8F0FE;\n",
              "      border: none;\n",
              "      border-radius: 50%;\n",
              "      cursor: pointer;\n",
              "      display: none;\n",
              "      fill: #1967D2;\n",
              "      height: 32px;\n",
              "      padding: 0 0 0 0;\n",
              "      width: 32px;\n",
              "    }\n",
              "\n",
              "    .colab-df-convert:hover {\n",
              "      background-color: #E2EBFA;\n",
              "      box-shadow: 0px 1px 2px rgba(60, 64, 67, 0.3), 0px 1px 3px 1px rgba(60, 64, 67, 0.15);\n",
              "      fill: #174EA6;\n",
              "    }\n",
              "\n",
              "    [theme=dark] .colab-df-convert {\n",
              "      background-color: #3B4455;\n",
              "      fill: #D2E3FC;\n",
              "    }\n",
              "\n",
              "    [theme=dark] .colab-df-convert:hover {\n",
              "      background-color: #434B5C;\n",
              "      box-shadow: 0px 1px 3px 1px rgba(0, 0, 0, 0.15);\n",
              "      filter: drop-shadow(0px 1px 2px rgba(0, 0, 0, 0.3));\n",
              "      fill: #FFFFFF;\n",
              "    }\n",
              "  </style>\n",
              "\n",
              "      <script>\n",
              "        const buttonEl =\n",
              "          document.querySelector('#df-304ab8cd-65c9-4be7-b4b1-c78d4700df37 button.colab-df-convert');\n",
              "        buttonEl.style.display =\n",
              "          google.colab.kernel.accessAllowed ? 'block' : 'none';\n",
              "\n",
              "        async function convertToInteractive(key) {\n",
              "          const element = document.querySelector('#df-304ab8cd-65c9-4be7-b4b1-c78d4700df37');\n",
              "          const dataTable =\n",
              "            await google.colab.kernel.invokeFunction('convertToInteractive',\n",
              "                                                     [key], {});\n",
              "          if (!dataTable) return;\n",
              "\n",
              "          const docLinkHtml = 'Like what you see? Visit the ' +\n",
              "            '<a target=\"_blank\" href=https://colab.research.google.com/notebooks/data_table.ipynb>data table notebook</a>'\n",
              "            + ' to learn more about interactive tables.';\n",
              "          element.innerHTML = '';\n",
              "          dataTable['output_type'] = 'display_data';\n",
              "          await google.colab.output.renderOutput(dataTable, element);\n",
              "          const docLink = document.createElement('div');\n",
              "          docLink.innerHTML = docLinkHtml;\n",
              "          element.appendChild(docLink);\n",
              "        }\n",
              "      </script>\n",
              "    </div>\n",
              "  </div>\n",
              "  "
            ],
            "text/plain": [
              "               Zona   comp_cong         PML\n",
              "0          ACAPULCO   53.630762  703.001416\n",
              "1    AGUASCALIENTES    7.752893  592.532645\n",
              "2        APATZINGAN   16.628782  646.356422\n",
              "3           CABORCA -116.903380  367.318539\n",
              "4           CAMARGO  -31.762361  507.655175\n",
              "..              ...         ...         ...\n",
              "96           ZACAPU   15.328314  620.227473\n",
              "97        ZACATECAS    3.532711  599.569388\n",
              "98           ZAMORA   15.334239  621.130785\n",
              "99         ZAPOTLAN   16.120402  609.604478\n",
              "100     ZIHUATANEJO   42.399976  665.805393\n",
              "\n",
              "[101 rows x 3 columns]"
            ]
          },
          "metadata": {},
          "execution_count": 30
        }
      ]
    },
    {
      "cell_type": "markdown",
      "source": [
        "Podemos crear una gráfica de la regresión lineal de manera rápida con la paquetería seaborn mediante ```sns.lmplot()```, pero no podemos acceder a los valores de los coeficientes ```m``` y ```b```"
      ],
      "metadata": {
        "id": "nX9r0AYveCcx"
      }
    },
    {
      "cell_type": "code",
      "source": [
        "sns.lmplot(x='comp_cong',y='PML',data=data_linereg,)"
      ],
      "metadata": {
        "colab": {
          "base_uri": "https://localhost:8080/",
          "height": 386
        },
        "id": "hTX8KEEdeb8N",
        "outputId": "7a182f36-63f0-4c9a-f362-4c2dbd96753b"
      },
      "execution_count": null,
      "outputs": [
        {
          "output_type": "execute_result",
          "data": {
            "text/plain": [
              "<seaborn.axisgrid.FacetGrid at 0x7f26b5f91550>"
            ]
          },
          "metadata": {},
          "execution_count": 32
        },
        {
          "output_type": "display_data",
          "data": {
            "image/png": "[encoded data removed]",
            "text/plain": [
              "<Figure size 360x360 with 1 Axes>"
            ]
          },
          "metadata": {
            "needs_background": "light"
          }
        }
      ]
    },
    {
      "cell_type": "code",
      "metadata": {
        "id": "gs2ddYI1remQ"
      },
      "source": [
        "from sklearn.linear_model import LinearRegression"
      ],
      "execution_count": null,
      "outputs": []
    },
    {
      "cell_type": "markdown",
      "metadata": {
        "id": "0zLnkem0sM6Y"
      },
      "source": [
        "con la función reshape, el -1 dice que nuestra matriz tendrá un número de ```n``` filas que python calculará, y el 1 indica que es de 1 columna"
      ]
    },
    {
      "cell_type": "code",
      "source": [
        "nCong = cong_zone['comp_cong'].values.reshape(-1,1)\n",
        "type(nCong)\n",
        "nPML = PML_zone['PML'].values.reshape(-1,1)\n",
        "type(nPML)"
      ],
      "metadata": {
        "colab": {
          "base_uri": "https://localhost:8080/"
        },
        "id": "N4rsMCeYfk9e",
        "outputId": "471b672b-a372-47b7-ed60-a5977fae1d7f"
      },
      "execution_count": null,
      "outputs": [
        {
          "output_type": "execute_result",
          "data": {
            "text/plain": [
              "numpy.ndarray"
            ]
          },
          "metadata": {},
          "execution_count": 35
        }
      ]
    },
    {
      "cell_type": "code",
      "source": [
        "linear_regressor = LinearRegression()\n",
        "linear_regressor.fit(nCong,nPML)"
      ],
      "metadata": {
        "colab": {
          "base_uri": "https://localhost:8080/"
        },
        "id": "bDdpX-Sig9cp",
        "outputId": "a974e1dd-d783-4681-b08a-b477d7ca1ae9"
      },
      "execution_count": null,
      "outputs": [
        {
          "output_type": "execute_result",
          "data": {
            "text/plain": [
              "LinearRegression()"
            ]
          },
          "metadata": {},
          "execution_count": 38
        }
      ]
    },
    {
      "cell_type": "code",
      "source": [
        "PML_pred = linear_regressor.predict(nCong)\n",
        "PML_pred"
      ],
      "metadata": {
        "id": "ptAU8uL7hH4P"
      },
      "execution_count": null,
      "outputs": []
    },
    {
      "cell_type": "code",
      "source": [
        "#y = mx + b\n",
        "m = linear_regressor.coef_[0][0]\n",
        "b = linear_regressor.intercept_[0]\n",
        "\n",
        "linreg_label = r'$PML = %0.4f*cong %+0.4f$'%(m,b)"
      ],
      "metadata": {
        "id": "45RkY5c5ljGo"
      },
      "execution_count": null,
      "outputs": []
    },
    {
      "cell_type": "code",
      "source": [
        "plt.scatter(cong_zone['comp_cong'],PML_zone['PML'],label='Zonas')\n",
        "plt.plot(nCong, PML_pred, label=linreg_label)\n",
        "plt.ylabel('PML (MXN/MWh)', fontsize = 10)\n",
        "plt.xlabel('Congestion (MXN/MWh)', fontsize=10)\n",
        "plt.title('Relacion PML - Congestión', fontsize=12, weight='bold')\n",
        "plt.legend()"
      ],
      "metadata": {
        "colab": {
          "base_uri": "https://localhost:8080/",
          "height": 312
        },
        "id": "FIYJ5dfmmAqh",
        "outputId": "dbcdf866-1679-42b8-c2f6-15766decc61a"
      },
      "execution_count": null,
      "outputs": [
        {
          "output_type": "execute_result",
          "data": {
            "text/plain": [
              "<matplotlib.legend.Legend at 0x7f26ae17c510>"
            ]
          },
          "metadata": {},
          "execution_count": 41
        },
        {
          "output_type": "display_data",
          "data": {
            "image/png": "[encoded data removed]",
            "text/plain": [
              "<Figure size 432x288 with 1 Axes>"
            ]
          },
          "metadata": {
            "needs_background": "light"
          }
        }
      ]
    },
    {
      "cell_type": "markdown",
      "metadata": {
        "id": "tgw_TwNgrBU1"
      },
      "source": [
        "Estadísticas de una regresión lineal. Observamos que arrojan los mismos resultados haciendo uso de la librería de estadística ```statsmodel```\n",
        "\n",
        "*   Regresión Scikitlearn: m=1.6687 b=576.8303\n",
        "*   Regresión Statsmodel : m=1.6687 b=576.8303 (columna ```coef```)\n",
        "\n",
        "\n"
      ]
    },
    {
      "cell_type": "code",
      "metadata": {
        "colab": {
          "base_uri": "https://localhost:8080/"
        },
        "id": "2-6a9FKwrIGJ",
        "outputId": "9db16aa6-2675-4370-8ea5-bebfecbcb0c8"
      },
      "source": [
        "import statsmodels.api as sm\n",
        "model = sm.OLS(nPML,sm.add_constant(nCong))\n",
        "results = model.fit()\n",
        "print(results.summary())"
      ],
      "execution_count": null,
      "outputs": [
        {
          "output_type": "stream",
          "name": "stderr",
          "text": [
            "/usr/local/lib/python3.7/dist-packages/statsmodels/tools/_testing.py:19: FutureWarning:\n",
            "\n",
            "pandas.util.testing is deprecated. Use the functions in the public API at pandas.testing instead.\n",
            "\n"
          ]
        },
        {
          "output_type": "stream",
          "name": "stdout",
          "text": [
            "                            OLS Regression Results                            \n",
            "==============================================================================\n",
            "Dep. Variable:                      y   R-squared:                       0.976\n",
            "Model:                            OLS   Adj. R-squared:                  0.976\n",
            "Method:                 Least Squares   F-statistic:                     4100.\n",
            "Date:                Mon, 03 Jan 2022   Prob (F-statistic):           2.23e-82\n",
            "Time:                        21:29:50   Log-Likelihood:                -447.15\n",
            "No. Observations:                 101   AIC:                             898.3\n",
            "Df Residuals:                      99   BIC:                             903.5\n",
            "Df Model:                           1                                         \n",
            "Covariance Type:            nonrobust                                         \n",
            "==============================================================================\n",
            "                 coef    std err          t      P>|t|      [0.025      0.975]\n",
            "------------------------------------------------------------------------------\n",
            "const        576.8303      2.133    270.406      0.000     572.598     581.063\n",
            "x1             1.6687      0.026     64.030      0.000       1.617       1.720\n",
            "==============================================================================\n",
            "Omnibus:                       13.925   Durbin-Watson:                   1.646\n",
            "Prob(Omnibus):                  0.001   Jarque-Bera (JB):               39.880\n",
            "Skew:                           0.301   Prob(JB):                     2.19e-09\n",
            "Kurtosis:                       6.019   Cond. No.                         85.8\n",
            "==============================================================================\n",
            "\n",
            "Warnings:\n",
            "[1] Standard Errors assume that the covariance matrix of the errors is correctly specified.\n"
          ]
        }
      ]
    }
  ]
}